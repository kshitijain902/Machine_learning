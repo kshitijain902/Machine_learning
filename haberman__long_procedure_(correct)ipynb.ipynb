{
  "nbformat": 4,
  "nbformat_minor": 0,
  "metadata": {
    "colab": {
      "provenance": [],
      "mount_file_id": "1kvsOASfK7fVNAW80EG3IBddFnuJx6lku",
      "authorship_tag": "ABX9TyM78nBoItpV/nuDuj7jBe8a",
      "include_colab_link": true
    },
    "kernelspec": {
      "name": "python3",
      "display_name": "Python 3"
    },
    "language_info": {
      "name": "python"
    }
  },
  "cells": [
    {
      "cell_type": "markdown",
      "metadata": {
        "id": "view-in-github",
        "colab_type": "text"
      },
      "source": [
        "<a href=\"https://colab.research.google.com/github/kshitijain902/Machine_learning/blob/main/haberman__long_procedure_(correct)ipynb.ipynb\" target=\"_parent\"><img src=\"https://colab.research.google.com/assets/colab-badge.svg\" alt=\"Open In Colab\"/></a>"
      ]
    },
    {
      "cell_type": "code",
      "execution_count": null,
      "metadata": {
        "id": "u-ggdsds7_Mq"
      },
      "outputs": [],
      "source": [
        "import pandas as pd\n",
        "import matplotlib.pyplot as plt\n",
        "import numpy as np\n",
        "import seaborn as sns"
      ]
    },
    {
      "cell_type": "code",
      "source": [
        "df=pd.read_csv('/content/drive/MyDrive/dataset/haber.csv')"
      ],
      "metadata": {
        "id": "kSAbiYZ280um"
      },
      "execution_count": null,
      "outputs": []
    },
    {
      "cell_type": "code",
      "source": [
        "df.head()"
      ],
      "metadata": {
        "id": "VbUnQKvr83YS",
        "colab": {
          "base_uri": "https://localhost:8080/",
          "height": 206
        },
        "outputId": "be9fe571-5bc3-4609-a8e7-8b2778b85151"
      },
      "execution_count": null,
      "outputs": [
        {
          "output_type": "execute_result",
          "data": {
            "text/plain": [
              "   30  64   1  1.1\n",
              "0  30  62   3    1\n",
              "1  30  65   0    1\n",
              "2  31  59   2    1\n",
              "3  31  65   4    1\n",
              "4  33  58  10    1"
            ],
            "text/html": [
              "\n",
              "  <div id=\"df-ed8bb9fc-53dc-4bed-994c-c965fb497e3b\">\n",
              "    <div class=\"colab-df-container\">\n",
              "      <div>\n",
              "<style scoped>\n",
              "    .dataframe tbody tr th:only-of-type {\n",
              "        vertical-align: middle;\n",
              "    }\n",
              "\n",
              "    .dataframe tbody tr th {\n",
              "        vertical-align: top;\n",
              "    }\n",
              "\n",
              "    .dataframe thead th {\n",
              "        text-align: right;\n",
              "    }\n",
              "</style>\n",
              "<table border=\"1\" class=\"dataframe\">\n",
              "  <thead>\n",
              "    <tr style=\"text-align: right;\">\n",
              "      <th></th>\n",
              "      <th>30</th>\n",
              "      <th>64</th>\n",
              "      <th>1</th>\n",
              "      <th>1.1</th>\n",
              "    </tr>\n",
              "  </thead>\n",
              "  <tbody>\n",
              "    <tr>\n",
              "      <th>0</th>\n",
              "      <td>30</td>\n",
              "      <td>62</td>\n",
              "      <td>3</td>\n",
              "      <td>1</td>\n",
              "    </tr>\n",
              "    <tr>\n",
              "      <th>1</th>\n",
              "      <td>30</td>\n",
              "      <td>65</td>\n",
              "      <td>0</td>\n",
              "      <td>1</td>\n",
              "    </tr>\n",
              "    <tr>\n",
              "      <th>2</th>\n",
              "      <td>31</td>\n",
              "      <td>59</td>\n",
              "      <td>2</td>\n",
              "      <td>1</td>\n",
              "    </tr>\n",
              "    <tr>\n",
              "      <th>3</th>\n",
              "      <td>31</td>\n",
              "      <td>65</td>\n",
              "      <td>4</td>\n",
              "      <td>1</td>\n",
              "    </tr>\n",
              "    <tr>\n",
              "      <th>4</th>\n",
              "      <td>33</td>\n",
              "      <td>58</td>\n",
              "      <td>10</td>\n",
              "      <td>1</td>\n",
              "    </tr>\n",
              "  </tbody>\n",
              "</table>\n",
              "</div>\n",
              "      <button class=\"colab-df-convert\" onclick=\"convertToInteractive('df-ed8bb9fc-53dc-4bed-994c-c965fb497e3b')\"\n",
              "              title=\"Convert this dataframe to an interactive table.\"\n",
              "              style=\"display:none;\">\n",
              "        \n",
              "  <svg xmlns=\"http://www.w3.org/2000/svg\" height=\"24px\"viewBox=\"0 0 24 24\"\n",
              "       width=\"24px\">\n",
              "    <path d=\"M0 0h24v24H0V0z\" fill=\"none\"/>\n",
              "    <path d=\"M18.56 5.44l.94 2.06.94-2.06 2.06-.94-2.06-.94-.94-2.06-.94 2.06-2.06.94zm-11 1L8.5 8.5l.94-2.06 2.06-.94-2.06-.94L8.5 2.5l-.94 2.06-2.06.94zm10 10l.94 2.06.94-2.06 2.06-.94-2.06-.94-.94-2.06-.94 2.06-2.06.94z\"/><path d=\"M17.41 7.96l-1.37-1.37c-.4-.4-.92-.59-1.43-.59-.52 0-1.04.2-1.43.59L10.3 9.45l-7.72 7.72c-.78.78-.78 2.05 0 2.83L4 21.41c.39.39.9.59 1.41.59.51 0 1.02-.2 1.41-.59l7.78-7.78 2.81-2.81c.8-.78.8-2.07 0-2.86zM5.41 20L4 18.59l7.72-7.72 1.47 1.35L5.41 20z\"/>\n",
              "  </svg>\n",
              "      </button>\n",
              "      \n",
              "  <style>\n",
              "    .colab-df-container {\n",
              "      display:flex;\n",
              "      flex-wrap:wrap;\n",
              "      gap: 12px;\n",
              "    }\n",
              "\n",
              "    .colab-df-convert {\n",
              "      background-color: #E8F0FE;\n",
              "      border: none;\n",
              "      border-radius: 50%;\n",
              "      cursor: pointer;\n",
              "      display: none;\n",
              "      fill: #1967D2;\n",
              "      height: 32px;\n",
              "      padding: 0 0 0 0;\n",
              "      width: 32px;\n",
              "    }\n",
              "\n",
              "    .colab-df-convert:hover {\n",
              "      background-color: #E2EBFA;\n",
              "      box-shadow: 0px 1px 2px rgba(60, 64, 67, 0.3), 0px 1px 3px 1px rgba(60, 64, 67, 0.15);\n",
              "      fill: #174EA6;\n",
              "    }\n",
              "\n",
              "    [theme=dark] .colab-df-convert {\n",
              "      background-color: #3B4455;\n",
              "      fill: #D2E3FC;\n",
              "    }\n",
              "\n",
              "    [theme=dark] .colab-df-convert:hover {\n",
              "      background-color: #434B5C;\n",
              "      box-shadow: 0px 1px 3px 1px rgba(0, 0, 0, 0.15);\n",
              "      filter: drop-shadow(0px 1px 2px rgba(0, 0, 0, 0.3));\n",
              "      fill: #FFFFFF;\n",
              "    }\n",
              "  </style>\n",
              "\n",
              "      <script>\n",
              "        const buttonEl =\n",
              "          document.querySelector('#df-ed8bb9fc-53dc-4bed-994c-c965fb497e3b button.colab-df-convert');\n",
              "        buttonEl.style.display =\n",
              "          google.colab.kernel.accessAllowed ? 'block' : 'none';\n",
              "\n",
              "        async function convertToInteractive(key) {\n",
              "          const element = document.querySelector('#df-ed8bb9fc-53dc-4bed-994c-c965fb497e3b');\n",
              "          const dataTable =\n",
              "            await google.colab.kernel.invokeFunction('convertToInteractive',\n",
              "                                                     [key], {});\n",
              "          if (!dataTable) return;\n",
              "\n",
              "          const docLinkHtml = 'Like what you see? Visit the ' +\n",
              "            '<a target=\"_blank\" href=https://colab.research.google.com/notebooks/data_table.ipynb>data table notebook</a>'\n",
              "            + ' to learn more about interactive tables.';\n",
              "          element.innerHTML = '';\n",
              "          dataTable['output_type'] = 'display_data';\n",
              "          await google.colab.output.renderOutput(dataTable, element);\n",
              "          const docLink = document.createElement('div');\n",
              "          docLink.innerHTML = docLinkHtml;\n",
              "          element.appendChild(docLink);\n",
              "        }\n",
              "      </script>\n",
              "    </div>\n",
              "  </div>\n",
              "  "
            ]
          },
          "metadata": {},
          "execution_count": 101
        }
      ]
    },
    {
      "cell_type": "code",
      "source": [
        "columns=['Age','Year_Of_Operation','Positive_Nodes','Status']"
      ],
      "metadata": {
        "id": "a0KpocIG85Tt"
      },
      "execution_count": null,
      "outputs": []
    },
    {
      "cell_type": "code",
      "source": [
        "df=pd.read_csv('/content/drive/MyDrive/dataset/haber.csv',names=columns)"
      ],
      "metadata": {
        "id": "9p2nUvKH9nrG"
      },
      "execution_count": null,
      "outputs": []
    },
    {
      "cell_type": "code",
      "source": [
        "df.head(3000)"
      ],
      "metadata": {
        "id": "RueBO2PE92f_",
        "colab": {
          "base_uri": "https://localhost:8080/",
          "height": 423
        },
        "outputId": "6686b6ea-73a6-4104-9f00-19de043e0be2"
      },
      "execution_count": null,
      "outputs": [
        {
          "output_type": "execute_result",
          "data": {
            "text/plain": [
              "     Age  Year_Of_Operation  Positive_Nodes  Status\n",
              "0     30                 64               1       1\n",
              "1     30                 62               3       1\n",
              "2     30                 65               0       1\n",
              "3     31                 59               2       1\n",
              "4     31                 65               4       1\n",
              "..   ...                ...             ...     ...\n",
              "301   75                 62               1       1\n",
              "302   76                 67               0       1\n",
              "303   77                 65               3       1\n",
              "304   78                 65               1       2\n",
              "305   83                 58               2       2\n",
              "\n",
              "[306 rows x 4 columns]"
            ],
            "text/html": [
              "\n",
              "  <div id=\"df-8ff1d00e-0ac9-41e0-a700-34c84d5a5692\">\n",
              "    <div class=\"colab-df-container\">\n",
              "      <div>\n",
              "<style scoped>\n",
              "    .dataframe tbody tr th:only-of-type {\n",
              "        vertical-align: middle;\n",
              "    }\n",
              "\n",
              "    .dataframe tbody tr th {\n",
              "        vertical-align: top;\n",
              "    }\n",
              "\n",
              "    .dataframe thead th {\n",
              "        text-align: right;\n",
              "    }\n",
              "</style>\n",
              "<table border=\"1\" class=\"dataframe\">\n",
              "  <thead>\n",
              "    <tr style=\"text-align: right;\">\n",
              "      <th></th>\n",
              "      <th>Age</th>\n",
              "      <th>Year_Of_Operation</th>\n",
              "      <th>Positive_Nodes</th>\n",
              "      <th>Status</th>\n",
              "    </tr>\n",
              "  </thead>\n",
              "  <tbody>\n",
              "    <tr>\n",
              "      <th>0</th>\n",
              "      <td>30</td>\n",
              "      <td>64</td>\n",
              "      <td>1</td>\n",
              "      <td>1</td>\n",
              "    </tr>\n",
              "    <tr>\n",
              "      <th>1</th>\n",
              "      <td>30</td>\n",
              "      <td>62</td>\n",
              "      <td>3</td>\n",
              "      <td>1</td>\n",
              "    </tr>\n",
              "    <tr>\n",
              "      <th>2</th>\n",
              "      <td>30</td>\n",
              "      <td>65</td>\n",
              "      <td>0</td>\n",
              "      <td>1</td>\n",
              "    </tr>\n",
              "    <tr>\n",
              "      <th>3</th>\n",
              "      <td>31</td>\n",
              "      <td>59</td>\n",
              "      <td>2</td>\n",
              "      <td>1</td>\n",
              "    </tr>\n",
              "    <tr>\n",
              "      <th>4</th>\n",
              "      <td>31</td>\n",
              "      <td>65</td>\n",
              "      <td>4</td>\n",
              "      <td>1</td>\n",
              "    </tr>\n",
              "    <tr>\n",
              "      <th>...</th>\n",
              "      <td>...</td>\n",
              "      <td>...</td>\n",
              "      <td>...</td>\n",
              "      <td>...</td>\n",
              "    </tr>\n",
              "    <tr>\n",
              "      <th>301</th>\n",
              "      <td>75</td>\n",
              "      <td>62</td>\n",
              "      <td>1</td>\n",
              "      <td>1</td>\n",
              "    </tr>\n",
              "    <tr>\n",
              "      <th>302</th>\n",
              "      <td>76</td>\n",
              "      <td>67</td>\n",
              "      <td>0</td>\n",
              "      <td>1</td>\n",
              "    </tr>\n",
              "    <tr>\n",
              "      <th>303</th>\n",
              "      <td>77</td>\n",
              "      <td>65</td>\n",
              "      <td>3</td>\n",
              "      <td>1</td>\n",
              "    </tr>\n",
              "    <tr>\n",
              "      <th>304</th>\n",
              "      <td>78</td>\n",
              "      <td>65</td>\n",
              "      <td>1</td>\n",
              "      <td>2</td>\n",
              "    </tr>\n",
              "    <tr>\n",
              "      <th>305</th>\n",
              "      <td>83</td>\n",
              "      <td>58</td>\n",
              "      <td>2</td>\n",
              "      <td>2</td>\n",
              "    </tr>\n",
              "  </tbody>\n",
              "</table>\n",
              "<p>306 rows × 4 columns</p>\n",
              "</div>\n",
              "      <button class=\"colab-df-convert\" onclick=\"convertToInteractive('df-8ff1d00e-0ac9-41e0-a700-34c84d5a5692')\"\n",
              "              title=\"Convert this dataframe to an interactive table.\"\n",
              "              style=\"display:none;\">\n",
              "        \n",
              "  <svg xmlns=\"http://www.w3.org/2000/svg\" height=\"24px\"viewBox=\"0 0 24 24\"\n",
              "       width=\"24px\">\n",
              "    <path d=\"M0 0h24v24H0V0z\" fill=\"none\"/>\n",
              "    <path d=\"M18.56 5.44l.94 2.06.94-2.06 2.06-.94-2.06-.94-.94-2.06-.94 2.06-2.06.94zm-11 1L8.5 8.5l.94-2.06 2.06-.94-2.06-.94L8.5 2.5l-.94 2.06-2.06.94zm10 10l.94 2.06.94-2.06 2.06-.94-2.06-.94-.94-2.06-.94 2.06-2.06.94z\"/><path d=\"M17.41 7.96l-1.37-1.37c-.4-.4-.92-.59-1.43-.59-.52 0-1.04.2-1.43.59L10.3 9.45l-7.72 7.72c-.78.78-.78 2.05 0 2.83L4 21.41c.39.39.9.59 1.41.59.51 0 1.02-.2 1.41-.59l7.78-7.78 2.81-2.81c.8-.78.8-2.07 0-2.86zM5.41 20L4 18.59l7.72-7.72 1.47 1.35L5.41 20z\"/>\n",
              "  </svg>\n",
              "      </button>\n",
              "      \n",
              "  <style>\n",
              "    .colab-df-container {\n",
              "      display:flex;\n",
              "      flex-wrap:wrap;\n",
              "      gap: 12px;\n",
              "    }\n",
              "\n",
              "    .colab-df-convert {\n",
              "      background-color: #E8F0FE;\n",
              "      border: none;\n",
              "      border-radius: 50%;\n",
              "      cursor: pointer;\n",
              "      display: none;\n",
              "      fill: #1967D2;\n",
              "      height: 32px;\n",
              "      padding: 0 0 0 0;\n",
              "      width: 32px;\n",
              "    }\n",
              "\n",
              "    .colab-df-convert:hover {\n",
              "      background-color: #E2EBFA;\n",
              "      box-shadow: 0px 1px 2px rgba(60, 64, 67, 0.3), 0px 1px 3px 1px rgba(60, 64, 67, 0.15);\n",
              "      fill: #174EA6;\n",
              "    }\n",
              "\n",
              "    [theme=dark] .colab-df-convert {\n",
              "      background-color: #3B4455;\n",
              "      fill: #D2E3FC;\n",
              "    }\n",
              "\n",
              "    [theme=dark] .colab-df-convert:hover {\n",
              "      background-color: #434B5C;\n",
              "      box-shadow: 0px 1px 3px 1px rgba(0, 0, 0, 0.15);\n",
              "      filter: drop-shadow(0px 1px 2px rgba(0, 0, 0, 0.3));\n",
              "      fill: #FFFFFF;\n",
              "    }\n",
              "  </style>\n",
              "\n",
              "      <script>\n",
              "        const buttonEl =\n",
              "          document.querySelector('#df-8ff1d00e-0ac9-41e0-a700-34c84d5a5692 button.colab-df-convert');\n",
              "        buttonEl.style.display =\n",
              "          google.colab.kernel.accessAllowed ? 'block' : 'none';\n",
              "\n",
              "        async function convertToInteractive(key) {\n",
              "          const element = document.querySelector('#df-8ff1d00e-0ac9-41e0-a700-34c84d5a5692');\n",
              "          const dataTable =\n",
              "            await google.colab.kernel.invokeFunction('convertToInteractive',\n",
              "                                                     [key], {});\n",
              "          if (!dataTable) return;\n",
              "\n",
              "          const docLinkHtml = 'Like what you see? Visit the ' +\n",
              "            '<a target=\"_blank\" href=https://colab.research.google.com/notebooks/data_table.ipynb>data table notebook</a>'\n",
              "            + ' to learn more about interactive tables.';\n",
              "          element.innerHTML = '';\n",
              "          dataTable['output_type'] = 'display_data';\n",
              "          await google.colab.output.renderOutput(dataTable, element);\n",
              "          const docLink = document.createElement('div');\n",
              "          docLink.innerHTML = docLinkHtml;\n",
              "          element.appendChild(docLink);\n",
              "        }\n",
              "      </script>\n",
              "    </div>\n",
              "  </div>\n",
              "  "
            ]
          },
          "metadata": {},
          "execution_count": 104
        }
      ]
    },
    {
      "cell_type": "code",
      "source": [
        "df.isnull().sum()"
      ],
      "metadata": {
        "id": "I5EY8frx94KC",
        "colab": {
          "base_uri": "https://localhost:8080/"
        },
        "outputId": "5fef24a9-72c2-4f68-d55a-540bd743307f"
      },
      "execution_count": null,
      "outputs": [
        {
          "output_type": "execute_result",
          "data": {
            "text/plain": [
              "Age                  0\n",
              "Year_Of_Operation    0\n",
              "Positive_Nodes       0\n",
              "Status               0\n",
              "dtype: int64"
            ]
          },
          "metadata": {},
          "execution_count": 105
        }
      ]
    },
    {
      "cell_type": "code",
      "source": [
        "print(df.shape)"
      ],
      "metadata": {
        "id": "E6LgpAuu98z2",
        "colab": {
          "base_uri": "https://localhost:8080/"
        },
        "outputId": "ddc6ad14-3294-42f4-d004-0eee1a0988f6"
      },
      "execution_count": null,
      "outputs": [
        {
          "output_type": "stream",
          "name": "stdout",
          "text": [
            "(306, 4)\n"
          ]
        }
      ]
    },
    {
      "cell_type": "code",
      "source": [
        "#df['Status'].value_counts()\n",
        "df['Age'].value_counts()"
      ],
      "metadata": {
        "id": "kCGvYtWk-Btq",
        "colab": {
          "base_uri": "https://localhost:8080/"
        },
        "outputId": "c933ad5f-965f-4869-fff9-a44d9a98f7f5"
      },
      "execution_count": null,
      "outputs": [
        {
          "output_type": "execute_result",
          "data": {
            "text/plain": [
              "52    14\n",
              "54    13\n",
              "50    12\n",
              "47    11\n",
              "53    11\n",
              "43    11\n",
              "57    11\n",
              "49    10\n",
              "65    10\n",
              "55    10\n",
              "38    10\n",
              "41    10\n",
              "42     9\n",
              "45     9\n",
              "61     9\n",
              "59     8\n",
              "63     8\n",
              "56     7\n",
              "58     7\n",
              "62     7\n",
              "48     7\n",
              "46     7\n",
              "44     7\n",
              "70     7\n",
              "34     7\n",
              "51     6\n",
              "67     6\n",
              "39     6\n",
              "37     6\n",
              "60     6\n",
              "66     5\n",
              "64     5\n",
              "69     4\n",
              "72     4\n",
              "30     3\n",
              "40     3\n",
              "31     2\n",
              "68     2\n",
              "36     2\n",
              "35     2\n",
              "33     2\n",
              "73     2\n",
              "74     2\n",
              "71     1\n",
              "75     1\n",
              "76     1\n",
              "77     1\n",
              "78     1\n",
              "83     1\n",
              "Name: Age, dtype: int64"
            ]
          },
          "metadata": {},
          "execution_count": 107
        }
      ]
    },
    {
      "cell_type": "code",
      "source": [
        "\n",
        "slices=df['Status'].value_counts()"
      ],
      "metadata": {
        "id": "u_r0oFOE-QdW"
      },
      "execution_count": null,
      "outputs": []
    },
    {
      "cell_type": "code",
      "source": [
        "plt.pie(x=slices,labels=['Survived','Non_Survived'])"
      ],
      "metadata": {
        "id": "fGhtqUra-xG0",
        "colab": {
          "base_uri": "https://localhost:8080/",
          "height": 475
        },
        "outputId": "7b41dc78-9399-4612-d70c-94f55da17c3d"
      },
      "execution_count": null,
      "outputs": [
        {
          "output_type": "execute_result",
          "data": {
            "text/plain": [
              "([<matplotlib.patches.Wedge at 0x7f60aa623100>,\n",
              "  <matplotlib.patches.Wedge at 0x7f60aa72e130>],\n",
              " [Text(-0.7410651721946901, 0.8129098415937984, 'Survived'),\n",
              "  Text(0.74106517219469, -0.8129098415937984, 'Non_Survived')])"
            ]
          },
          "metadata": {},
          "execution_count": 109
        },
        {
          "output_type": "display_data",
          "data": {
            "text/plain": [
              "<Figure size 640x480 with 1 Axes>"
            ],
            "image/png": "[encoded data removed]"
          },
          "metadata": {}
        }
      ]
    },
    {
      "cell_type": "code",
      "source": [
        "# Feature Age "
      ],
      "metadata": {
        "id": "_QwQm2dA-6XF"
      },
      "execution_count": null,
      "outputs": []
    },
    {
      "cell_type": "code",
      "source": [
        "print(\"Patient with lowest Age\",df['Age'].min())"
      ],
      "metadata": {
        "id": "GkRj0rwQ_L9G",
        "colab": {
          "base_uri": "https://localhost:8080/"
        },
        "outputId": "a4e3825c-3f7e-4179-af16-9330fb127591"
      },
      "execution_count": null,
      "outputs": [
        {
          "output_type": "stream",
          "name": "stdout",
          "text": [
            "Patient with lowest Age 30\n"
          ]
        }
      ]
    },
    {
      "cell_type": "code",
      "source": [
        "# patients with highest age\n",
        "print(\"Patients with highest age\",df['Age'].max())"
      ],
      "metadata": {
        "id": "nRYykEN2_WL6",
        "colab": {
          "base_uri": "https://localhost:8080/"
        },
        "outputId": "05e2fb5c-bd9f-4473-fd8f-9bc6cbbf57f5"
      },
      "execution_count": null,
      "outputs": [
        {
          "output_type": "stream",
          "name": "stdout",
          "text": [
            "Patients with highest age 83\n"
          ]
        }
      ]
    },
    {
      "cell_type": "code",
      "source": [
        "print(\"Mean Age of the patient\",df['Age'].mean())"
      ],
      "metadata": {
        "id": "Dx5UvEYP_lpH",
        "colab": {
          "base_uri": "https://localhost:8080/"
        },
        "outputId": "69a83c4d-ccbb-4e7f-dc6c-23f657b19a11"
      },
      "execution_count": null,
      "outputs": [
        {
          "output_type": "stream",
          "name": "stdout",
          "text": [
            "Mean Age of the patient 52.45751633986928\n"
          ]
        }
      ]
    },
    {
      "cell_type": "code",
      "source": [
        "#df['Status'].value_counts()\n",
        "df['Age'].value_counts()"
      ],
      "metadata": {
        "id": "hBEnOjil_rin",
        "colab": {
          "base_uri": "https://localhost:8080/"
        },
        "outputId": "0bf20f48-ae91-4e80-eee8-b43283c2fa3d"
      },
      "execution_count": null,
      "outputs": [
        {
          "output_type": "execute_result",
          "data": {
            "text/plain": [
              "52    14\n",
              "54    13\n",
              "50    12\n",
              "47    11\n",
              "53    11\n",
              "43    11\n",
              "57    11\n",
              "49    10\n",
              "65    10\n",
              "55    10\n",
              "38    10\n",
              "41    10\n",
              "42     9\n",
              "45     9\n",
              "61     9\n",
              "59     8\n",
              "63     8\n",
              "56     7\n",
              "58     7\n",
              "62     7\n",
              "48     7\n",
              "46     7\n",
              "44     7\n",
              "70     7\n",
              "34     7\n",
              "51     6\n",
              "67     6\n",
              "39     6\n",
              "37     6\n",
              "60     6\n",
              "66     5\n",
              "64     5\n",
              "69     4\n",
              "72     4\n",
              "30     3\n",
              "40     3\n",
              "31     2\n",
              "68     2\n",
              "36     2\n",
              "35     2\n",
              "33     2\n",
              "73     2\n",
              "74     2\n",
              "71     1\n",
              "75     1\n",
              "76     1\n",
              "77     1\n",
              "78     1\n",
              "83     1\n",
              "Name: Age, dtype: int64"
            ]
          },
          "metadata": {},
          "execution_count": 114
        }
      ]
    },
    {
      "cell_type": "code",
      "source": [
        "sns.histplot(x=df['Age'],label='Age',bins=9,kde=True)\n",
        "plt.xlabel('Age')\n",
        "plt.ylabel(\"Density(Patient Count)\")\n",
        "plt.title('Patient Age Distribution')\n",
        "plt.xticks(ticks=range(25,85,5))\n",
        "plt.yticks(ticks=range(0,90,10)) # doubt when we use Age.value_counts it is showing max no as 13 but this graph is showing bigger values"
      ],
      "metadata": {
        "id": "78o3m7gkAhDf",
        "colab": {
          "base_uri": "https://localhost:8080/",
          "height": 784
        },
        "outputId": "bd8665bf-9c4e-4238-f230-4a569b58b282"
      },
      "execution_count": null,
      "outputs": [
        {
          "output_type": "execute_result",
          "data": {
            "text/plain": [
              "([<matplotlib.axis.YTick at 0x7f60aa641670>,\n",
              "  <matplotlib.axis.YTick at 0x7f60aa639fd0>,\n",
              "  <matplotlib.axis.YTick at 0x7f60aa5a1e20>,\n",
              "  <matplotlib.axis.YTick at 0x7f60aa5a7760>,\n",
              "  <matplotlib.axis.YTick at 0x7f60aa61c070>,\n",
              "  <matplotlib.axis.YTick at 0x7f60aa5a7d00>,\n",
              "  <matplotlib.axis.YTick at 0x7f60aa5b0b50>,\n",
              "  <matplotlib.axis.YTick at 0x7f60aa5b3640>,\n",
              "  <matplotlib.axis.YTick at 0x7f60aa6390d0>],\n",
              " [Text(0, 0, '0'),\n",
              "  Text(0, 10, '10'),\n",
              "  Text(0, 20, '20'),\n",
              "  Text(0, 30, '30'),\n",
              "  Text(0, 40, '40'),\n",
              "  Text(0, 50, '50'),\n",
              "  Text(0, 60, '60'),\n",
              "  Text(0, 70, '70'),\n",
              "  Text(0, 80, '80')])"
            ]
          },
          "metadata": {},
          "execution_count": 115
        },
        {
          "output_type": "display_data",
          "data": {
            "text/plain": [
              "<Figure size 640x480 with 1 Axes>"
            ],
            "image/png": "[encoded data removed]"
          },
          "metadata": {}
        }
      ]
    },
    {
      "cell_type": "code",
      "source": [
        "df['Status']=df['Status'].astype('int')\n",
        "df=df.replace({'Status':{1:1,2:0}})\n",
        "print(df['Status'].value_counts())"
      ],
      "metadata": {
        "id": "U405fuqJF9x0",
        "colab": {
          "base_uri": "https://localhost:8080/"
        },
        "outputId": "fa0fb265-65cf-4e11-8b54-0066853b06f9"
      },
      "execution_count": null,
      "outputs": [
        {
          "output_type": "stream",
          "name": "stdout",
          "text": [
            "1    225\n",
            "0     81\n",
            "Name: Status, dtype: int64\n"
          ]
        }
      ]
    },
    {
      "cell_type": "code",
      "source": [
        "df"
      ],
      "metadata": {
        "id": "Iv7CEOJripgA",
        "colab": {
          "base_uri": "https://localhost:8080/",
          "height": 423
        },
        "outputId": "9c0c8a3c-0388-4a21-ce2d-b11a15f52bf5"
      },
      "execution_count": null,
      "outputs": [
        {
          "output_type": "execute_result",
          "data": {
            "text/plain": [
              "     Age  Year_Of_Operation  Positive_Nodes  Status\n",
              "0     30                 64               1       1\n",
              "1     30                 62               3       1\n",
              "2     30                 65               0       1\n",
              "3     31                 59               2       1\n",
              "4     31                 65               4       1\n",
              "..   ...                ...             ...     ...\n",
              "301   75                 62               1       1\n",
              "302   76                 67               0       1\n",
              "303   77                 65               3       1\n",
              "304   78                 65               1       0\n",
              "305   83                 58               2       0\n",
              "\n",
              "[306 rows x 4 columns]"
            ],
            "text/html": [
              "\n",
              "  <div id=\"df-eb2d9f36-8ea3-45f5-9bf5-6fe3bcc9b9a7\">\n",
              "    <div class=\"colab-df-container\">\n",
              "      <div>\n",
              "<style scoped>\n",
              "    .dataframe tbody tr th:only-of-type {\n",
              "        vertical-align: middle;\n",
              "    }\n",
              "\n",
              "    .dataframe tbody tr th {\n",
              "        vertical-align: top;\n",
              "    }\n",
              "\n",
              "    .dataframe thead th {\n",
              "        text-align: right;\n",
              "    }\n",
              "</style>\n",
              "<table border=\"1\" class=\"dataframe\">\n",
              "  <thead>\n",
              "    <tr style=\"text-align: right;\">\n",
              "      <th></th>\n",
              "      <th>Age</th>\n",
              "      <th>Year_Of_Operation</th>\n",
              "      <th>Positive_Nodes</th>\n",
              "      <th>Status</th>\n",
              "    </tr>\n",
              "  </thead>\n",
              "  <tbody>\n",
              "    <tr>\n",
              "      <th>0</th>\n",
              "      <td>30</td>\n",
              "      <td>64</td>\n",
              "      <td>1</td>\n",
              "      <td>1</td>\n",
              "    </tr>\n",
              "    <tr>\n",
              "      <th>1</th>\n",
              "      <td>30</td>\n",
              "      <td>62</td>\n",
              "      <td>3</td>\n",
              "      <td>1</td>\n",
              "    </tr>\n",
              "    <tr>\n",
              "      <th>2</th>\n",
              "      <td>30</td>\n",
              "      <td>65</td>\n",
              "      <td>0</td>\n",
              "      <td>1</td>\n",
              "    </tr>\n",
              "    <tr>\n",
              "      <th>3</th>\n",
              "      <td>31</td>\n",
              "      <td>59</td>\n",
              "      <td>2</td>\n",
              "      <td>1</td>\n",
              "    </tr>\n",
              "    <tr>\n",
              "      <th>4</th>\n",
              "      <td>31</td>\n",
              "      <td>65</td>\n",
              "      <td>4</td>\n",
              "      <td>1</td>\n",
              "    </tr>\n",
              "    <tr>\n",
              "      <th>...</th>\n",
              "      <td>...</td>\n",
              "      <td>...</td>\n",
              "      <td>...</td>\n",
              "      <td>...</td>\n",
              "    </tr>\n",
              "    <tr>\n",
              "      <th>301</th>\n",
              "      <td>75</td>\n",
              "      <td>62</td>\n",
              "      <td>1</td>\n",
              "      <td>1</td>\n",
              "    </tr>\n",
              "    <tr>\n",
              "      <th>302</th>\n",
              "      <td>76</td>\n",
              "      <td>67</td>\n",
              "      <td>0</td>\n",
              "      <td>1</td>\n",
              "    </tr>\n",
              "    <tr>\n",
              "      <th>303</th>\n",
              "      <td>77</td>\n",
              "      <td>65</td>\n",
              "      <td>3</td>\n",
              "      <td>1</td>\n",
              "    </tr>\n",
              "    <tr>\n",
              "      <th>304</th>\n",
              "      <td>78</td>\n",
              "      <td>65</td>\n",
              "      <td>1</td>\n",
              "      <td>0</td>\n",
              "    </tr>\n",
              "    <tr>\n",
              "      <th>305</th>\n",
              "      <td>83</td>\n",
              "      <td>58</td>\n",
              "      <td>2</td>\n",
              "      <td>0</td>\n",
              "    </tr>\n",
              "  </tbody>\n",
              "</table>\n",
              "<p>306 rows × 4 columns</p>\n",
              "</div>\n",
              "      <button class=\"colab-df-convert\" onclick=\"convertToInteractive('df-eb2d9f36-8ea3-45f5-9bf5-6fe3bcc9b9a7')\"\n",
              "              title=\"Convert this dataframe to an interactive table.\"\n",
              "              style=\"display:none;\">\n",
              "        \n",
              "  <svg xmlns=\"http://www.w3.org/2000/svg\" height=\"24px\"viewBox=\"0 0 24 24\"\n",
              "       width=\"24px\">\n",
              "    <path d=\"M0 0h24v24H0V0z\" fill=\"none\"/>\n",
              "    <path d=\"M18.56 5.44l.94 2.06.94-2.06 2.06-.94-2.06-.94-.94-2.06-.94 2.06-2.06.94zm-11 1L8.5 8.5l.94-2.06 2.06-.94-2.06-.94L8.5 2.5l-.94 2.06-2.06.94zm10 10l.94 2.06.94-2.06 2.06-.94-2.06-.94-.94-2.06-.94 2.06-2.06.94z\"/><path d=\"M17.41 7.96l-1.37-1.37c-.4-.4-.92-.59-1.43-.59-.52 0-1.04.2-1.43.59L10.3 9.45l-7.72 7.72c-.78.78-.78 2.05 0 2.83L4 21.41c.39.39.9.59 1.41.59.51 0 1.02-.2 1.41-.59l7.78-7.78 2.81-2.81c.8-.78.8-2.07 0-2.86zM5.41 20L4 18.59l7.72-7.72 1.47 1.35L5.41 20z\"/>\n",
              "  </svg>\n",
              "      </button>\n",
              "      \n",
              "  <style>\n",
              "    .colab-df-container {\n",
              "      display:flex;\n",
              "      flex-wrap:wrap;\n",
              "      gap: 12px;\n",
              "    }\n",
              "\n",
              "    .colab-df-convert {\n",
              "      background-color: #E8F0FE;\n",
              "      border: none;\n",
              "      border-radius: 50%;\n",
              "      cursor: pointer;\n",
              "      display: none;\n",
              "      fill: #1967D2;\n",
              "      height: 32px;\n",
              "      padding: 0 0 0 0;\n",
              "      width: 32px;\n",
              "    }\n",
              "\n",
              "    .colab-df-convert:hover {\n",
              "      background-color: #E2EBFA;\n",
              "      box-shadow: 0px 1px 2px rgba(60, 64, 67, 0.3), 0px 1px 3px 1px rgba(60, 64, 67, 0.15);\n",
              "      fill: #174EA6;\n",
              "    }\n",
              "\n",
              "    [theme=dark] .colab-df-convert {\n",
              "      background-color: #3B4455;\n",
              "      fill: #D2E3FC;\n",
              "    }\n",
              "\n",
              "    [theme=dark] .colab-df-convert:hover {\n",
              "      background-color: #434B5C;\n",
              "      box-shadow: 0px 1px 3px 1px rgba(0, 0, 0, 0.15);\n",
              "      filter: drop-shadow(0px 1px 2px rgba(0, 0, 0, 0.3));\n",
              "      fill: #FFFFFF;\n",
              "    }\n",
              "  </style>\n",
              "\n",
              "      <script>\n",
              "        const buttonEl =\n",
              "          document.querySelector('#df-eb2d9f36-8ea3-45f5-9bf5-6fe3bcc9b9a7 button.colab-df-convert');\n",
              "        buttonEl.style.display =\n",
              "          google.colab.kernel.accessAllowed ? 'block' : 'none';\n",
              "\n",
              "        async function convertToInteractive(key) {\n",
              "          const element = document.querySelector('#df-eb2d9f36-8ea3-45f5-9bf5-6fe3bcc9b9a7');\n",
              "          const dataTable =\n",
              "            await google.colab.kernel.invokeFunction('convertToInteractive',\n",
              "                                                     [key], {});\n",
              "          if (!dataTable) return;\n",
              "\n",
              "          const docLinkHtml = 'Like what you see? Visit the ' +\n",
              "            '<a target=\"_blank\" href=https://colab.research.google.com/notebooks/data_table.ipynb>data table notebook</a>'\n",
              "            + ' to learn more about interactive tables.';\n",
              "          element.innerHTML = '';\n",
              "          dataTable['output_type'] = 'display_data';\n",
              "          await google.colab.output.renderOutput(dataTable, element);\n",
              "          const docLink = document.createElement('div');\n",
              "          docLink.innerHTML = docLinkHtml;\n",
              "          element.appendChild(docLink);\n",
              "        }\n",
              "      </script>\n",
              "    </div>\n",
              "  </div>\n",
              "  "
            ]
          },
          "metadata": {},
          "execution_count": 117
        }
      ]
    },
    {
      "cell_type": "code",
      "source": [
        "df.shape"
      ],
      "metadata": {
        "id": "G0H4ObkwjO26",
        "colab": {
          "base_uri": "https://localhost:8080/"
        },
        "outputId": "207331e3-40f9-40c4-c668-6dd9968d2e9a"
      },
      "execution_count": null,
      "outputs": [
        {
          "output_type": "execute_result",
          "data": {
            "text/plain": [
              "(306, 4)"
            ]
          },
          "metadata": {},
          "execution_count": 118
        }
      ]
    },
    {
      "cell_type": "code",
      "source": [
        "x=df.iloc[:,0:3].values\n",
        "y=df.iloc[:,3:].values\n",
        "print(x.shape)\n",
        "print(y.shape)"
      ],
      "metadata": {
        "id": "qsqcuWHfpimz",
        "colab": {
          "base_uri": "https://localhost:8080/"
        },
        "outputId": "bdbb8747-8dc2-40c5-d98f-bdc3db128aa9"
      },
      "execution_count": null,
      "outputs": [
        {
          "output_type": "stream",
          "name": "stdout",
          "text": [
            "(306, 3)\n",
            "(306, 1)\n"
          ]
        }
      ]
    },
    {
      "cell_type": "code",
      "source": [
        "x_train=x[:250,]\n",
        "x_test=x[250:,:]\n",
        "y_train=y[:250,]\n",
        "y_test=y[250:,]\n",
        "print(x_test.shape)"
      ],
      "metadata": {
        "id": "DmU6u0DtqYti",
        "colab": {
          "base_uri": "https://localhost:8080/"
        },
        "outputId": "d4dd064b-96c7-4e43-feba-b6aaeb540497"
      },
      "execution_count": null,
      "outputs": [
        {
          "output_type": "stream",
          "name": "stdout",
          "text": [
            "(56, 3)\n"
          ]
        }
      ]
    },
    {
      "cell_type": "code",
      "source": [
        "u=np.mean(x,axis=0)\n",
        "std=np.std(x,axis=0)"
      ],
      "metadata": {
        "id": "bP8tanTaRS-D"
      },
      "execution_count": null,
      "outputs": []
    },
    {
      "cell_type": "code",
      "source": [
        "x_train=(x_train-u)/std\n",
        "x_test=(x_test-u)/std\n",
        "a=np.mean(y,axis=0)\n",
        "b=np.std(y,axis=0)\n",
        "y_train=(y_train-a)/b\n",
        "y_test=(y_test-a)/b"
      ],
      "metadata": {
        "id": "x6MTN_C5RnyC"
      },
      "execution_count": null,
      "outputs": []
    },
    {
      "cell_type": "code",
      "source": [],
      "metadata": {
        "id": "JbUC1Wt8Rzcn"
      },
      "execution_count": null,
      "outputs": []
    },
    {
      "cell_type": "code",
      "source": [],
      "metadata": {
        "id": "J-2K5kzQR72F"
      },
      "execution_count": null,
      "outputs": []
    },
    {
      "cell_type": "code",
      "source": [
        "print(x_train.std())"
      ],
      "metadata": {
        "id": "6Pd5uD7USEpf",
        "colab": {
          "base_uri": "https://localhost:8080/"
        },
        "outputId": "48891964-574f-4f7b-ed38-b3dfd62c95df"
      },
      "execution_count": null,
      "outputs": [
        {
          "output_type": "stream",
          "name": "stdout",
          "text": [
            "0.944671647134474\n"
          ]
        }
      ]
    },
    {
      "cell_type": "code",
      "source": [
        "def sigmoid(x):\n",
        "  return 1.0/(1.0 +np.exp(-x))"
      ],
      "metadata": {
        "id": "05E66eKi8xxj"
      },
      "execution_count": null,
      "outputs": []
    },
    {
      "cell_type": "code",
      "source": [
        "def hypothesis(x,theta):\n",
        "  return sigmoid(np.dot(x,theta))"
      ],
      "metadata": {
        "id": "mX-YLKmp8-_z"
      },
      "execution_count": null,
      "outputs": []
    },
    {
      "cell_type": "code",
      "source": [
        "def gradient(x,y,theta):\n",
        "  h_theta=hypothesis(x,theta)\n",
        "  grad=np.dot(x.T,(y-h_theta))\n",
        "  return grad/x.shape[0]"
      ],
      "metadata": {
        "id": "gH-mWge49WmC"
      },
      "execution_count": null,
      "outputs": []
    },
    {
      "cell_type": "code",
      "source": [
        "def cost_function(x,y,theta):\n",
        "  h_theta=hypothesis(x,theta)\n",
        "  cost=np.mean(y*np.log(h_theta)+(1-y)*np.log(1-h_theta))\n",
        "  cost=cost*-1\n",
        "  return cost"
      ],
      "metadata": {
        "id": "jx70puiJ9u_J"
      },
      "execution_count": null,
      "outputs": []
    },
    {
      "cell_type": "code",
      "source": [
        "def gradient_descent(x,y,learning_rate=0.01,max_steps=1000):\n",
        "  m,n=x.shape \n",
        "  theta=np.zeros((n,1))\n",
        "  cost_epoch=[]\n",
        "  for i in range(max_steps):\n",
        "    grad=gradient(x,y,theta)\n",
        "    e=cost_function(x,y,theta)\n",
        "    cost_epoch.append(e)\n",
        "    theta=theta+learning_rate*grad\n",
        "  return (theta,cost_epoch)"
      ],
      "metadata": {
        "id": "Q0aCxDNZ-uwO"
      },
      "execution_count": null,
      "outputs": []
    },
    {
      "cell_type": "code",
      "source": [
        "ones=np.ones((x_train.shape[0],1))\n",
        "x_train=np.hstack((ones,x_train))\n",
        "y_train=y_train.reshape((-1,1))"
      ],
      "metadata": {
        "id": "dTjrvO8b-ybR"
      },
      "execution_count": null,
      "outputs": []
    },
    {
      "cell_type": "code",
      "source": [
        "theta,cost_epoch=gradient_descent(x_train,y_train)"
      ],
      "metadata": {
        "id": "bJcm5YsO_Afs"
      },
      "execution_count": null,
      "outputs": []
    },
    {
      "cell_type": "code",
      "source": [
        "theta"
      ],
      "metadata": {
        "colab": {
          "base_uri": "https://localhost:8080/"
        },
        "id": "RcwMRq4K_I01",
        "outputId": "2460b397-ed17-423b-a247-1a4b02c4b9ff"
      },
      "execution_count": null,
      "outputs": [
        {
          "output_type": "execute_result",
          "data": {
            "text/plain": [
              "array([[-1.54630251],\n",
              "       [ 0.11770585],\n",
              "       [-0.16050239],\n",
              "       [-1.22907712]])"
            ]
          },
          "metadata": {},
          "execution_count": 131
        }
      ]
    },
    {
      "cell_type": "code",
      "source": [
        "cost_epoch"
      ],
      "metadata": {
        "colab": {
          "base_uri": "https://localhost:8080/"
        },
        "id": "LhRlPGtd_KAW",
        "outputId": "854945a6-0ce5-479b-a0cc-20d633cd6d11"
      },
      "execution_count": null,
      "outputs": [
        {
          "output_type": "execute_result",
          "data": {
            "text/plain": [
              "[0.6931471805599454,\n",
              " 0.6895013374555483,\n",
              " 0.6858758910748802,\n",
              " 0.6822707208358245,\n",
              " 0.6786857051653135,\n",
              " 0.6751207215518289,\n",
              " 0.6715756465980709,\n",
              " 0.6680503560737034,\n",
              " 0.6645447249680878,\n",
              " 0.6610586275429161,\n",
              " 0.6575919373846658,\n",
              " 0.6541445274567897,\n",
              " 0.6507162701515664,\n",
              " 0.6473070373415337,\n",
              " 0.6439167004304369,\n",
              " 0.6405451304036197,\n",
              " 0.6371921978777961,\n",
              " 0.6338577731501411,\n",
              " 0.6305417262466413,\n",
              " 0.6272439269696551,\n",
              " 0.6239642449446298,\n",
              " 0.6207025496659299,\n",
              " 0.6174587105417361,\n",
              " 0.6142325969379738,\n",
              " 0.6110240782212397,\n",
              " 0.6078330238006906,\n",
              " 0.6046593031688728,\n",
              " 0.6015027859414634,\n",
              " 0.5983633418959043,\n",
              " 0.5952408410089141,\n",
              " 0.5921351534928592,\n",
              " 0.5890461498309794,\n",
              " 0.5859737008114537,\n",
              " 0.5829176775603062,\n",
              " 0.5798779515731483,\n",
              " 0.5768543947457565,\n",
              " 0.5738468794034901,\n",
              " 0.5708552783295532,\n",
              " 0.5678794647921082,\n",
              " 0.5649193125702513,\n",
              " 0.5619746959788595,\n",
              " 0.559045489892322,\n",
              " 0.5561315697671735,\n",
              " 0.5532328116636416,\n",
              " 0.5503490922661278,\n",
              " 0.5474802889026417,\n",
              " 0.544626279563204,\n",
              " 0.5417869429172445,\n",
              " 0.5389621583300123,\n",
              " 0.5361518058780222,\n",
              " 0.5333557663635606,\n",
              " 0.5305739213282734,\n",
              " 0.5278061530658601,\n",
              " 0.5250523446338994,\n",
              " 0.5223123798648287,\n",
              " 0.5195861433761043,\n",
              " 0.5168735205795671,\n",
              " 0.514174397690036,\n",
              " 0.5114886617331575,\n",
              " 0.5088162005525338,\n",
              " 0.5061569028161563,\n",
              " 0.5035106580221654,\n",
              " 0.5008773565039648,\n",
              " 0.49825688943471225,\n",
              " 0.4956491488312096,\n",
              " 0.49305402755721844,\n",
              " 0.49047141932622074,\n",
              " 0.48790121870364933,\n",
              " 0.4853433211086094,\n",
              " 0.48279762281511357,\n",
              " 0.4802640209528498,\n",
              " 0.477742413507505,\n",
              " 0.47523269932066287,\n",
              " 0.47273477808929704,\n",
              " 0.4702485503648772,\n",
              " 0.4677739175521078,\n",
              " 0.46531078190731684,\n",
              " 0.46285904653651355,\n",
              " 0.46041861539312967,\n",
              " 0.4579893932754635,\n",
              " 0.4555712858238402,\n",
              " 0.4531641995175063,\n",
              " 0.4507680416712702,\n",
              " 0.4483827204319073,\n",
              " 0.44600814477433837,\n",
              " 0.44364422449759977,\n",
              " 0.4412908702206149,\n",
              " 0.4389479933777807,\n",
              " 0.4366155062143804,\n",
              " 0.4342933217818359,\n",
              " 0.43198135393280723,\n",
              " 0.4296795173161544,\n",
              " 0.42738772737176656,\n",
              " 0.4251059003252731,\n",
              " 0.4228339531826423,\n",
              " 0.42057180372467856,\n",
              " 0.41831937050142587,\n",
              " 0.4160765728264863,\n",
              " 0.41384333077126,\n",
              " 0.41161956515911596,\n",
              " 0.4094051975594991,\n",
              " 0.40720015028198164,\n",
              " 0.4050043463702633,\n",
              " 0.4028177095961295,\n",
              " 0.4006401644533705,\n",
              " 0.3984716361516683,\n",
              " 0.39631205061045693,\n",
              " 0.39416133445276,\n",
              " 0.3920194149990113,\n",
              " 0.3898862202608626,\n",
              " 0.3877616789349827,\n",
              " 0.385645720396852,\n",
              " 0.3835382746945563,\n",
              " 0.3814392725425838,\n",
              " 0.37934864531562723,\n",
              " 0.3772663250423975,\n",
              " 0.3751922443994481,\n",
              " 0.3731263367050152,\n",
              " 0.371068535912877,\n",
              " 0.36901877660623167,\n",
              " 0.3669769939916,\n",
              " 0.36494312389275274,\n",
              " 0.362917102744664,\n",
              " 0.3608988675874956,\n",
              " 0.3588883560606111,\n",
              " 0.356885506396623,\n",
              " 0.35489025741547425,\n",
              " 0.3529025485185551,\n",
              " 0.3509223196828573,\n",
              " 0.34894951145516645,\n",
              " 0.3469840649462935,\n",
              " 0.34502592182534747,\n",
              " 0.3430750243140493,\n",
              " 0.34113131518108714,\n",
              " 0.33919473773651665,\n",
              " 0.33726523582620355,\n",
              " 0.33534275382631173,\n",
              " 0.3334272366378359,\n",
              " 0.3315186296811807,\n",
              " 0.32961687889078495,\n",
              " 0.32772193070979366,\n",
              " 0.32583373208477595,\n",
              " 0.323952230460491,\n",
              " 0.3220773737747009,\n",
              " 0.32020911045303224,\n",
              " 0.31834738940388424,\n",
              " 0.316492160013386,\n",
              " 0.31464337214040144,\n",
              " 0.31280097611158264,\n",
              " 0.31096492271647147,\n",
              " 0.3091351632026488,\n",
              " 0.3073116492709325,\n",
              " 0.30549433307062396,\n",
              " 0.30368316719480154,\n",
              " 0.30187810467566234,\n",
              " 0.30007909897991214,\n",
              " 0.2982861040042025,\n",
              " 0.29649907407061543,\n",
              " 0.29471796392219507,\n",
              " 0.2929427287185264,\n",
              " 0.29117332403136104,\n",
              " 0.28940970584028886,\n",
              " 0.2876518305284564,\n",
              " 0.2858996548783308,\n",
              " 0.28415313606750986,\n",
              " 0.2824122316645768,\n",
              " 0.28067689962500025,\n",
              " 0.2789470982870793,\n",
              " 0.27722278636793274,\n",
              " 0.27550392295953147,\n",
              " 0.27379046752477576,\n",
              " 0.27208237989361544,\n",
              " 0.27037962025921275,\n",
              " 0.2686821491741476,\n",
              " 0.26698992754666584,\n",
              " 0.2653029166369682,\n",
              " 0.26362107805354196,\n",
              " 0.26194437374953283,\n",
              " 0.26027276601915716,\n",
              " 0.25860621749415597,\n",
              " 0.2569446911402866,\n",
              " 0.25528815025385626,\n",
              " 0.2536365584582927,\n",
              " 0.25198987970075504,\n",
              " 0.25034807824878175,\n",
              " 0.24871111868697743,\n",
              " 0.24707896591373651,\n",
              " 0.24545158513800483,\n",
              " 0.2438289418760765,\n",
              " 0.24221100194842934,\n",
              " 0.24059773147659405,\n",
              " 0.2389890968800599,\n",
              " 0.2373850648732163,\n",
              " 0.23578560246232763,\n",
              " 0.23419067694254375,\n",
              " 0.2326002558949439,\n",
              " 0.23101430718361426,\n",
              " 0.22943279895275895,\n",
              " 0.22785569962384397,\n",
              " 0.22628297789277327,\n",
              " 0.22471460272709715,\n",
              " 0.22315054336325268,\n",
              " 0.2215907693038353,\n",
              " 0.22003525031490093,\n",
              " 0.21848395642329985,\n",
              " 0.21693685791403983,\n",
              " 0.21539392532767976,\n",
              " 0.21385512945775326,\n",
              " 0.21232044134822042,\n",
              " 0.21078983229094905,\n",
              " 0.2092632738232253,\n",
              " 0.2077407377252909,\n",
              " 0.2062221960179097,\n",
              " 0.20470762095996117,\n",
              " 0.20319698504606054,\n",
              " 0.20169026100420728,\n",
              " 0.2001874217934589,\n",
              " 0.19868844060163135,\n",
              " 0.19719329084302586,\n",
              " 0.19570194615618083,\n",
              " 0.194214380401649,\n",
              " 0.1927305676598002,\n",
              " 0.19125048222864843,\n",
              " 0.18977409862170316,\n",
              " 0.18830139156584527,\n",
              " 0.18683233599922644,\n",
              " 0.1853669070691922,\n",
              " 0.18390508013022813,\n",
              " 0.18244683074192927,\n",
              " 0.18099213466699202,\n",
              " 0.17954096786922832,\n",
              " 0.17809330651160243,\n",
              " 0.17664912695428922,\n",
              " 0.17520840575275395,\n",
              " 0.17377111965585396,\n",
              " 0.1723372456039607,\n",
              " 0.1709067607271034,\n",
              " 0.16947964234313243,\n",
              " 0.16805586795590385,\n",
              " 0.1666354152534833,\n",
              " 0.16521826210637033,\n",
              " 0.1638043865657417,\n",
              " 0.16239376686171494,\n",
              " 0.1609863814016295,\n",
              " 0.159582208768349,\n",
              " 0.15818122771857993,\n",
              " 0.15678341718120986,\n",
              " 0.15538875625566415,\n",
              " 0.15399722421027978,\n",
              " 0.15260880048069767,\n",
              " 0.15122346466827208,\n",
              " 0.14984119653849767,\n",
              " 0.14846197601945346,\n",
              " 0.1470857832002638,\n",
              " 0.145712598329576,\n",
              " 0.14434240181405467,\n",
              " 0.1429751742168923,\n",
              " 0.14161089625633547,\n",
              " 0.14024954880422794,\n",
              " 0.13889111288456849,\n",
              " 0.13753556967208505,\n",
              " 0.1361829004908236,\n",
              " 0.1348330868127528,\n",
              " 0.13348611025638307,\n",
              " 0.13214195258540093,\n",
              " 0.13080059570731753,\n",
              " 0.1294620216721322,\n",
              " 0.12812621267100963,\n",
              " 0.1267931510349716,\n",
              " 0.12546281923360264,\n",
              " 0.12413519987376914,\n",
              " 0.12281027569835247,\n",
              " 0.1214880295849953,\n",
              " 0.12016844454486121,\n",
              " 0.11885150372140757,\n",
              " 0.11753719038917132,\n",
              " 0.11622548795256757,\n",
              " 0.11491637994470055,\n",
              " 0.11360985002618808,\n",
              " 0.1123058819839969,\n",
              " 0.11100445973029173,\n",
              " 0.10970556730129526,\n",
              " 0.1084091888561608,\n",
              " 0.1071153086758562,\n",
              " 0.10582391116205998,\n",
              " 0.10453498083606859,\n",
              " 0.103248502337715,\n",
              " 0.10196446042429881,\n",
              " 0.10068283996952751,\n",
              " 0.0994036259624681,\n",
              " 0.09812680350651067,\n",
              " 0.09685235781834174,\n",
              " 0.09558027422692841,\n",
              " 0.09431053817251368,\n",
              " 0.09304313520562099,\n",
              " 0.09177805098606981,\n",
              " 0.09051527128200149,\n",
              " 0.08925478196891425,\n",
              " 0.0879965690287091,\n",
              " 0.08674061854874457,\n",
              " 0.08548691672090163,\n",
              " 0.08423544984065853,\n",
              " 0.08298620430617393,\n",
              " 0.08173916661738084,\n",
              " 0.08049432337508827,\n",
              " 0.07925166128009316,\n",
              " 0.07801116713230087,\n",
              " 0.07677282782985455,\n",
              " 0.07553663036827346,\n",
              " 0.07430256183959964,\n",
              " 0.07307060943155391,\n",
              " 0.0718407604266997,\n",
              " 0.0706130022016154,\n",
              " 0.06938732222607544,\n",
              " 0.06816370806223927,\n",
              " 0.06694214736384796,\n",
              " 0.06572262787543044,\n",
              " 0.06450513743151566,\n",
              " 0.0632896639558542,\n",
              " 0.06207619546064677,\n",
              " 0.06086472004578064,\n",
              " 0.05965522589807374,\n",
              " 0.05844770129052621,\n",
              " 0.05724213458157949,\n",
              " 0.05603851421438228,\n",
              " 0.05483682871606463,\n",
              " 0.05363706669701797,\n",
              " 0.05243921685018391,\n",
              " 0.051243267950348205,\n",
              " 0.05004920885344308,\n",
              " 0.04885702849585567,\n",
              " 0.047666715893743675,\n",
              " 0.0464782601423573,\n",
              " 0.04529165041536822,\n",
              " 0.04410687596420487,\n",
              " 0.04292392611739422,\n",
              " 0.04174279027991034,\n",
              " 0.04056345793252859,\n",
              " 0.039385918631186824,\n",
              " 0.03821016200635252,\n",
              " 0.0370361777623958,\n",
              " 0.03586395567696895,\n",
              " 0.03469348560039156,\n",
              " 0.033524757455042,\n",
              " 0.03235776123475457,\n",
              " 0.031192487004221867,\n",
              " 0.03002892489840456,\n",
              " 0.0288670651219448,\n",
              " 0.027706897948586665,\n",
              " 0.026548413720601752,\n",
              " 0.025391602848220153,\n",
              " 0.024236455809066804,\n",
              " 0.023082963147603892,\n",
              " 0.021931115474577396,\n",
              " 0.02078090346647011,\n",
              " 0.019632317864959177,\n",
              " 0.0184853494763788,\n",
              " 0.01733998917118835,\n",
              " 0.0161962278834455,\n",
              " 0.015054056610283943,\n",
              " 0.013913466411396286,\n",
              " 0.012774448408522154,\n",
              " 0.01163699378494058,\n",
              " 0.010501093784967637,\n",
              " 0.009366739713458217,\n",
              " 0.008233922935313338,\n",
              " 0.007102634874991189,\n",
              " 0.005972867016023429,\n",
              " 0.004844610900535521,\n",
              " 0.0037178581287720717,\n",
              " 0.0025926003586259298,\n",
              " 0.0014688293051725197,\n",
              " 0.0003465367402076396,\n",
              " -0.0007742855082099212,\n",
              " -0.001893645556211375,\n",
              " -0.003011551464567326,\n",
              " -0.004128011239132498,\n",
              " -0.005243032831286385,\n",
              " -0.006356624138370073,\n",
              " -0.0074687930041188655,\n",
              " -0.008579547219090919,\n",
              " -0.009688894521091946,\n",
              " -0.010796842595596068,\n",
              " -0.011903399076162693,\n",
              " -0.013008571544849702,\n",
              " -0.014112367532622471,\n",
              " -0.015214794519760112,\n",
              " -0.01631585993625661,\n",
              " -0.01741557116221952,\n",
              " -0.01851393552826426,\n",
              " -0.019610960315905302,\n",
              " -0.020706652757943318,\n",
              " -0.021801020038849196,\n",
              " -0.022894069295144846,\n",
              " -0.023985807615779373,\n",
              " -0.025076242042503347,\n",
              " -0.026165379570238456,\n",
              " -0.027253227147444676,\n",
              " -0.028339791676483678,\n",
              " -0.02942508001397916,\n",
              " -0.030509098971173636,\n",
              " -0.031591855314282366,\n",
              " -0.03267335576484388,\n",
              " -0.033753607000067715,\n",
              " -0.03483261565317856,\n",
              " -0.03591038831375733,\n",
              " -0.03698693152807995,\n",
              " -0.038062251799452156,\n",
              " -0.03913635558854155,\n",
              " -0.04020924931370758,\n",
              " -0.04128093935132714,\n",
              " -0.04235143203611831,\n",
              " -0.04342073366146105,\n",
              " -0.044488850479714695,\n",
              " -0.04555578870253305,\n",
              " -0.046621554501176415,\n",
              " -0.047686154006821004,\n",
              " -0.04874959331086572,\n",
              " -0.049811878465235715,\n",
              " -0.05087301548268436,\n",
              " -0.051933010337091016,\n",
              " -0.052991868963757925,\n",
              " -0.05404959725970282,\n",
              " -0.055106201083950236,\n",
              " -0.056161686257819726,\n",
              " -0.05721605856521169,\n",
              " -0.05826932375289058,\n",
              " -0.05932148753076574,\n",
              " -0.060372555572169674,\n",
              " -0.06142253351413426,\n",
              " -0.06247142695766402,\n",
              " -0.06351924146800769,\n",
              " -0.06456598257492646,\n",
              " -0.06561165577296132,\n",
              " -0.06665626652169611,\n",
              " -0.06769982024602086,\n",
              " -0.06874232233639016,\n",
              " -0.0697837781490814,\n",
              " -0.07082419300644968,\n",
              " -0.0718635721971809,\n",
              " -0.0729019209765425,\n",
              " -0.07393924456663231,\n",
              " -0.07497554815662506,\n",
              " -0.07601083690301677,\n",
              " -0.07704511592986733,\n",
              " -0.07807839032904054,\n",
              " -0.07911066516044235,\n",
              " -0.08014194545225756,\n",
              " -0.0811722362011832,\n",
              " -0.08220154237266164,\n",
              " -0.08322986890111012,\n",
              " -0.08425722069014964,\n",
              " -0.08528360261283086,\n",
              " -0.08630901951185897,\n",
              " -0.08733347619981567,\n",
              " -0.08835697745938045,\n",
              " -0.08937952804354904,\n",
              " -0.09040113267585075,\n",
              " -0.09142179605056297,\n",
              " -0.09244152283292532,\n",
              " -0.09346031765935046,\n",
              " -0.09447818513763444,\n",
              " -0.09549512984716423,\n",
              " -0.09651115633912469,\n",
              " -0.09752626913670233,\n",
              " -0.09854047273528874,\n",
              " -0.09955377160268132,\n",
              " -0.10056617017928336,\n",
              " -0.1015776728783011,\n",
              " -0.10258828408594069,\n",
              " -0.10359800816160213,\n",
              " -0.10460684943807264,\n",
              " -0.10561481222171765,\n",
              " -0.10662190079267064,\n",
              " -0.10762811940502212,\n",
              " -0.10863347228700466,\n",
              " -0.10963796364117936,\n",
              " -0.11064159764461942,\n",
              " -0.11164437844909098,\n",
              " -0.11264631018123504,\n",
              " -0.11364739694274567,\n",
              " -0.11464764281054834,\n",
              " -0.1156470518369755,\n",
              " -0.11664562804994172,\n",
              " -0.11764337545311641,\n",
              " -0.11864029802609648,\n",
              " -0.11963639972457644,\n",
              " -0.12063168448051706,\n",
              " -0.12162615620231415,\n",
              " -0.12261981877496382,\n",
              " -0.12361267606022819,\n",
              " -0.12460473189679877,\n",
              " -0.12559599010045877,\n",
              " -0.12658645446424452,\n",
              " -0.1275761287586044,\n",
              " -0.12856501673155837,\n",
              " -0.12955312210885386,\n",
              " -0.13054044859412306,\n",
              " -0.13152699986903615,\n",
              " -0.13251277959345611]"
            ]
          },
          "metadata": {},
          "execution_count": 133
        }
      ]
    },
    {
      "cell_type": "code",
      "source": [
        "ones=np.ones((x_test.shape[0],1))\n",
        "x_test=np.hstack((ones,x_test))\n",
        "y_test=y_test.reshape((-1,1))"
      ],
      "metadata": {
        "id": "cyKpiWLE_WoU"
      },
      "execution_count": null,
      "outputs": []
    },
    {
      "cell_type": "code",
      "source": [
        "plt.plot(cost_epoch)"
      ],
      "metadata": {
        "colab": {
          "base_uri": "https://localhost:8080/",
          "height": 447
        },
        "id": "5svaXxLz_oJj",
        "outputId": "dd07cd37-1fd5-4001-973a-89af93f65736"
      },
      "execution_count": null,
      "outputs": [
        {
          "output_type": "execute_result",
          "data": {
            "text/plain": [
              "[<matplotlib.lines.Line2D at 0x7f60aa246490>]"
            ]
          },
          "metadata": {},
          "execution_count": 138
        },
        {
          "output_type": "display_data",
          "data": {
            "text/plain": [
              "<Figure size 640x480 with 1 Axes>"
            ],
            "image/png": "[encoded data removed]"
          },
          "metadata": {}
        }
      ]
    },
    {
      "cell_type": "code",
      "source": [
        "x1 = np.arange(-3, 5)\n",
        "\n",
        "x2 = -(theta[0] * theta[1]*x1)/theta[2]\n",
        "\n",
        "plt.scatter(x_train[:, 1], x_train[:, 2], c = y_train)\n",
        "plt.plot(x1, x2)"
      ],
      "metadata": {
        "colab": {
          "base_uri": "https://localhost:8080/",
          "height": 447
        },
        "id": "s-C-qbRS_tz5",
        "outputId": "e3cf99b8-ac1b-4d3d-d0af-4d8be3b775a8"
      },
      "execution_count": null,
      "outputs": [
        {
          "output_type": "execute_result",
          "data": {
            "text/plain": [
              "[<matplotlib.lines.Line2D at 0x7f60aa41f940>]"
            ]
          },
          "metadata": {},
          "execution_count": 139
        },
        {
          "output_type": "display_data",
          "data": {
            "text/plain": [
              "<Figure size 640x480 with 1 Axes>"
            ],
            "image/png": "[encoded data removed]"
          },
          "metadata": {}
        }
      ]
    },
    {
      "cell_type": "code",
      "source": [
        "def predict(X, theta):\n",
        "    h_theta = hypothesis(X, theta)\n",
        "    output = np.zeros(h_theta.shape)\n",
        "\n",
        "    output[h_theta>0.5] = 1\n",
        "    output = output.astype('int')\n",
        "\n",
        "    return output\n",
        "     "
      ],
      "metadata": {
        "id": "vb27rqKA_7Qm"
      },
      "execution_count": null,
      "outputs": []
    },
    {
      "cell_type": "code",
      "source": [
        "train_preds = predict(x_train, theta)\n",
        "test_preds = predict(x_test, theta)"
      ],
      "metadata": {
        "id": "AOQphKIu__sL"
      },
      "execution_count": null,
      "outputs": []
    },
    {
      "cell_type": "code",
      "source": [
        "for i in range(len(test_preds)):\n",
        "    print(test_preds[i], y_test[i])"
      ],
      "metadata": {
        "colab": {
          "base_uri": "https://localhost:8080/"
        },
        "id": "to5LZrKNADVF",
        "outputId": "fe51ebe0-7877-4165-cd4a-9519bba07ce8"
      },
      "execution_count": null,
      "outputs": [
        {
          "output_type": "stream",
          "name": "stdout",
          "text": [
            "[0] [0.6]\n",
            "[0] [0.6]\n",
            "[0] [0.6]\n",
            "[0] [0.6]\n",
            "[0] [0.6]\n",
            "[0] [0.6]\n",
            "[0] [0.6]\n",
            "[0] [0.6]\n",
            "[0] [-1.66666667]\n",
            "[0] [-1.66666667]\n",
            "[0] [-1.66666667]\n",
            "[0] [-1.66666667]\n",
            "[0] [0.6]\n",
            "[0] [0.6]\n",
            "[0] [0.6]\n",
            "[0] [0.6]\n",
            "[0] [0.6]\n",
            "[0] [0.6]\n",
            "[0] [-1.66666667]\n",
            "[0] [-1.66666667]\n",
            "[0] [0.6]\n",
            "[0] [0.6]\n",
            "[0] [0.6]\n",
            "[0] [-1.66666667]\n",
            "[0] [-1.66666667]\n",
            "[0] [0.6]\n",
            "[0] [0.6]\n",
            "[0] [0.6]\n",
            "[0] [0.6]\n",
            "[0] [0.6]\n",
            "[0] [0.6]\n",
            "[0] [-1.66666667]\n",
            "[0] [0.6]\n",
            "[0] [0.6]\n",
            "[0] [0.6]\n",
            "[0] [-1.66666667]\n",
            "[0] [-1.66666667]\n",
            "[0] [0.6]\n",
            "[0] [0.6]\n",
            "[0] [0.6]\n",
            "[0] [0.6]\n",
            "[0] [0.6]\n",
            "[0] [0.6]\n",
            "[0] [-1.66666667]\n",
            "[0] [0.6]\n",
            "[0] [0.6]\n",
            "[0] [0.6]\n",
            "[0] [0.6]\n",
            "[0] [0.6]\n",
            "[0] [-1.66666667]\n",
            "[0] [0.6]\n",
            "[0] [0.6]\n",
            "[0] [0.6]\n",
            "[0] [0.6]\n",
            "[0] [-1.66666667]\n",
            "[0] [-1.66666667]\n"
          ]
        }
      ]
    },
    {
      "cell_type": "code",
      "source": [
        "def accuracy(preds, labels):\n",
        "    labels = labels.astype('int')\n",
        "    print(np.sum(preds == labels)/labels.shape[0])"
      ],
      "metadata": {
        "id": "1JGov8AwAF3N"
      },
      "execution_count": null,
      "outputs": []
    },
    {
      "cell_type": "code",
      "source": [
        "accuracy(train_preds,y_train)"
      ],
      "metadata": {
        "colab": {
          "base_uri": "https://localhost:8080/"
        },
        "id": "BJJ6WCyOANio",
        "outputId": "ebdb4ada-5852-47f4-d52f-ac46c03ac14a"
      },
      "execution_count": null,
      "outputs": [
        {
          "output_type": "stream",
          "name": "stdout",
          "text": [
            "0.736\n"
          ]
        }
      ]
    },
    {
      "cell_type": "code",
      "source": [
        "\n",
        "accuracy(test_preds, y_test)"
      ],
      "metadata": {
        "colab": {
          "base_uri": "https://localhost:8080/"
        },
        "id": "PYd6TAXxASVs",
        "outputId": "c98fc955-71e1-41a7-d4d9-17c3177a0d50"
      },
      "execution_count": null,
      "outputs": [
        {
          "output_type": "stream",
          "name": "stdout",
          "text": [
            "0.7321428571428571\n"
          ]
        }
      ]
    },
    {
      "cell_type": "code",
      "source": [],
      "metadata": {
        "id": "76Pbvhl0AZC-"
      },
      "execution_count": null,
      "outputs": []
    }
  ]
}