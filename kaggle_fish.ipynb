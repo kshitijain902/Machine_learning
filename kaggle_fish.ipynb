{
  "cells": [
    {
      "cell_type": "markdown",
      "metadata": {
        "id": "view-in-github",
        "colab_type": "text"
      },
      "source": [
        "<a href=\"https://colab.research.google.com/github/kshitijain902/Machine_learning/blob/main/kaggle_fish.ipynb\" target=\"_parent\"><img src=\"https://colab.research.google.com/assets/colab-badge.svg\" alt=\"Open In Colab\"/></a>"
      ]
    },
    {
      "cell_type": "code",
      "execution_count": 396,
      "id": "7b56de4b",
      "metadata": {
        "id": "7b56de4b"
      },
      "outputs": [],
      "source": [
        "import pandas as pd\n",
        "import numpy as np\n",
        "import matplotlib.pyplot as plt"
      ]
    },
    {
      "cell_type": "code",
      "source": [
        "from google.colab import drive\n",
        "drive.mount('/content/drive')\n",
        "df=pd.read_csv('/content/drive/MyDrive/dataset/fish.csv')\n",
        "df"
      ],
      "metadata": {
        "colab": {
          "base_uri": "https://localhost:8080/",
          "height": 441
        },
        "id": "dD8Biqcz4aFE",
        "outputId": "c765acbd-295f-4c8b-9042-2175fc03fb64"
      },
      "id": "dD8Biqcz4aFE",
      "execution_count": 397,
      "outputs": [
        {
          "output_type": "stream",
          "name": "stdout",
          "text": [
            "Drive already mounted at /content/drive; to attempt to forcibly remount, call drive.mount(\"/content/drive\", force_remount=True).\n"
          ]
        },
        {
          "output_type": "execute_result",
          "data": {
            "text/plain": [
              "    Species  Weight  Length1  Length2  Length3   Height   Width\n",
              "0     Bream   242.0     23.2     25.4     30.0  11.5200  4.0200\n",
              "1     Bream   290.0     24.0     26.3     31.2  12.4800  4.3056\n",
              "2     Bream   340.0     23.9     26.5     31.1  12.3778  4.6961\n",
              "3     Bream   363.0     26.3     29.0     33.5  12.7300  4.4555\n",
              "4     Bream   430.0     26.5     29.0     34.0  12.4440  5.1340\n",
              "..      ...     ...      ...      ...      ...      ...     ...\n",
              "154   Smelt    12.2     11.5     12.2     13.4   2.0904  1.3936\n",
              "155   Smelt    13.4     11.7     12.4     13.5   2.4300  1.2690\n",
              "156   Smelt    12.2     12.1     13.0     13.8   2.2770  1.2558\n",
              "157   Smelt    19.7     13.2     14.3     15.2   2.8728  2.0672\n",
              "158   Smelt    19.9     13.8     15.0     16.2   2.9322  1.8792\n",
              "\n",
              "[159 rows x 7 columns]"
            ],
            "text/html": [
              "\n",
              "  <div id=\"df-e70af592-9aa5-4dfd-9308-660ed408b4e6\">\n",
              "    <div class=\"colab-df-container\">\n",
              "      <div>\n",
              "<style scoped>\n",
              "    .dataframe tbody tr th:only-of-type {\n",
              "        vertical-align: middle;\n",
              "    }\n",
              "\n",
              "    .dataframe tbody tr th {\n",
              "        vertical-align: top;\n",
              "    }\n",
              "\n",
              "    .dataframe thead th {\n",
              "        text-align: right;\n",
              "    }\n",
              "</style>\n",
              "<table border=\"1\" class=\"dataframe\">\n",
              "  <thead>\n",
              "    <tr style=\"text-align: right;\">\n",
              "      <th></th>\n",
              "      <th>Species</th>\n",
              "      <th>Weight</th>\n",
              "      <th>Length1</th>\n",
              "      <th>Length2</th>\n",
              "      <th>Length3</th>\n",
              "      <th>Height</th>\n",
              "      <th>Width</th>\n",
              "    </tr>\n",
              "  </thead>\n",
              "  <tbody>\n",
              "    <tr>\n",
              "      <th>0</th>\n",
              "      <td>Bream</td>\n",
              "      <td>242.0</td>\n",
              "      <td>23.2</td>\n",
              "      <td>25.4</td>\n",
              "      <td>30.0</td>\n",
              "      <td>11.5200</td>\n",
              "      <td>4.0200</td>\n",
              "    </tr>\n",
              "    <tr>\n",
              "      <th>1</th>\n",
              "      <td>Bream</td>\n",
              "      <td>290.0</td>\n",
              "      <td>24.0</td>\n",
              "      <td>26.3</td>\n",
              "      <td>31.2</td>\n",
              "      <td>12.4800</td>\n",
              "      <td>4.3056</td>\n",
              "    </tr>\n",
              "    <tr>\n",
              "      <th>2</th>\n",
              "      <td>Bream</td>\n",
              "      <td>340.0</td>\n",
              "      <td>23.9</td>\n",
              "      <td>26.5</td>\n",
              "      <td>31.1</td>\n",
              "      <td>12.3778</td>\n",
              "      <td>4.6961</td>\n",
              "    </tr>\n",
              "    <tr>\n",
              "      <th>3</th>\n",
              "      <td>Bream</td>\n",
              "      <td>363.0</td>\n",
              "      <td>26.3</td>\n",
              "      <td>29.0</td>\n",
              "      <td>33.5</td>\n",
              "      <td>12.7300</td>\n",
              "      <td>4.4555</td>\n",
              "    </tr>\n",
              "    <tr>\n",
              "      <th>4</th>\n",
              "      <td>Bream</td>\n",
              "      <td>430.0</td>\n",
              "      <td>26.5</td>\n",
              "      <td>29.0</td>\n",
              "      <td>34.0</td>\n",
              "      <td>12.4440</td>\n",
              "      <td>5.1340</td>\n",
              "    </tr>\n",
              "    <tr>\n",
              "      <th>...</th>\n",
              "      <td>...</td>\n",
              "      <td>...</td>\n",
              "      <td>...</td>\n",
              "      <td>...</td>\n",
              "      <td>...</td>\n",
              "      <td>...</td>\n",
              "      <td>...</td>\n",
              "    </tr>\n",
              "    <tr>\n",
              "      <th>154</th>\n",
              "      <td>Smelt</td>\n",
              "      <td>12.2</td>\n",
              "      <td>11.5</td>\n",
              "      <td>12.2</td>\n",
              "      <td>13.4</td>\n",
              "      <td>2.0904</td>\n",
              "      <td>1.3936</td>\n",
              "    </tr>\n",
              "    <tr>\n",
              "      <th>155</th>\n",
              "      <td>Smelt</td>\n",
              "      <td>13.4</td>\n",
              "      <td>11.7</td>\n",
              "      <td>12.4</td>\n",
              "      <td>13.5</td>\n",
              "      <td>2.4300</td>\n",
              "      <td>1.2690</td>\n",
              "    </tr>\n",
              "    <tr>\n",
              "      <th>156</th>\n",
              "      <td>Smelt</td>\n",
              "      <td>12.2</td>\n",
              "      <td>12.1</td>\n",
              "      <td>13.0</td>\n",
              "      <td>13.8</td>\n",
              "      <td>2.2770</td>\n",
              "      <td>1.2558</td>\n",
              "    </tr>\n",
              "    <tr>\n",
              "      <th>157</th>\n",
              "      <td>Smelt</td>\n",
              "      <td>19.7</td>\n",
              "      <td>13.2</td>\n",
              "      <td>14.3</td>\n",
              "      <td>15.2</td>\n",
              "      <td>2.8728</td>\n",
              "      <td>2.0672</td>\n",
              "    </tr>\n",
              "    <tr>\n",
              "      <th>158</th>\n",
              "      <td>Smelt</td>\n",
              "      <td>19.9</td>\n",
              "      <td>13.8</td>\n",
              "      <td>15.0</td>\n",
              "      <td>16.2</td>\n",
              "      <td>2.9322</td>\n",
              "      <td>1.8792</td>\n",
              "    </tr>\n",
              "  </tbody>\n",
              "</table>\n",
              "<p>159 rows × 7 columns</p>\n",
              "</div>\n",
              "      <button class=\"colab-df-convert\" onclick=\"convertToInteractive('df-e70af592-9aa5-4dfd-9308-660ed408b4e6')\"\n",
              "              title=\"Convert this dataframe to an interactive table.\"\n",
              "              style=\"display:none;\">\n",
              "        \n",
              "  <svg xmlns=\"http://www.w3.org/2000/svg\" height=\"24px\"viewBox=\"0 0 24 24\"\n",
              "       width=\"24px\">\n",
              "    <path d=\"M0 0h24v24H0V0z\" fill=\"none\"/>\n",
              "    <path d=\"M18.56 5.44l.94 2.06.94-2.06 2.06-.94-2.06-.94-.94-2.06-.94 2.06-2.06.94zm-11 1L8.5 8.5l.94-2.06 2.06-.94-2.06-.94L8.5 2.5l-.94 2.06-2.06.94zm10 10l.94 2.06.94-2.06 2.06-.94-2.06-.94-.94-2.06-.94 2.06-2.06.94z\"/><path d=\"M17.41 7.96l-1.37-1.37c-.4-.4-.92-.59-1.43-.59-.52 0-1.04.2-1.43.59L10.3 9.45l-7.72 7.72c-.78.78-.78 2.05 0 2.83L4 21.41c.39.39.9.59 1.41.59.51 0 1.02-.2 1.41-.59l7.78-7.78 2.81-2.81c.8-.78.8-2.07 0-2.86zM5.41 20L4 18.59l7.72-7.72 1.47 1.35L5.41 20z\"/>\n",
              "  </svg>\n",
              "      </button>\n",
              "      \n",
              "  <style>\n",
              "    .colab-df-container {\n",
              "      display:flex;\n",
              "      flex-wrap:wrap;\n",
              "      gap: 12px;\n",
              "    }\n",
              "\n",
              "    .colab-df-convert {\n",
              "      background-color: #E8F0FE;\n",
              "      border: none;\n",
              "      border-radius: 50%;\n",
              "      cursor: pointer;\n",
              "      display: none;\n",
              "      fill: #1967D2;\n",
              "      height: 32px;\n",
              "      padding: 0 0 0 0;\n",
              "      width: 32px;\n",
              "    }\n",
              "\n",
              "    .colab-df-convert:hover {\n",
              "      background-color: #E2EBFA;\n",
              "      box-shadow: 0px 1px 2px rgba(60, 64, 67, 0.3), 0px 1px 3px 1px rgba(60, 64, 67, 0.15);\n",
              "      fill: #174EA6;\n",
              "    }\n",
              "\n",
              "    [theme=dark] .colab-df-convert {\n",
              "      background-color: #3B4455;\n",
              "      fill: #D2E3FC;\n",
              "    }\n",
              "\n",
              "    [theme=dark] .colab-df-convert:hover {\n",
              "      background-color: #434B5C;\n",
              "      box-shadow: 0px 1px 3px 1px rgba(0, 0, 0, 0.15);\n",
              "      filter: drop-shadow(0px 1px 2px rgba(0, 0, 0, 0.3));\n",
              "      fill: #FFFFFF;\n",
              "    }\n",
              "  </style>\n",
              "\n",
              "      <script>\n",
              "        const buttonEl =\n",
              "          document.querySelector('#df-e70af592-9aa5-4dfd-9308-660ed408b4e6 button.colab-df-convert');\n",
              "        buttonEl.style.display =\n",
              "          google.colab.kernel.accessAllowed ? 'block' : 'none';\n",
              "\n",
              "        async function convertToInteractive(key) {\n",
              "          const element = document.querySelector('#df-e70af592-9aa5-4dfd-9308-660ed408b4e6');\n",
              "          const dataTable =\n",
              "            await google.colab.kernel.invokeFunction('convertToInteractive',\n",
              "                                                     [key], {});\n",
              "          if (!dataTable) return;\n",
              "\n",
              "          const docLinkHtml = 'Like what you see? Visit the ' +\n",
              "            '<a target=\"_blank\" href=https://colab.research.google.com/notebooks/data_table.ipynb>data table notebook</a>'\n",
              "            + ' to learn more about interactive tables.';\n",
              "          element.innerHTML = '';\n",
              "          dataTable['output_type'] = 'display_data';\n",
              "          await google.colab.output.renderOutput(dataTable, element);\n",
              "          const docLink = document.createElement('div');\n",
              "          docLink.innerHTML = docLinkHtml;\n",
              "          element.appendChild(docLink);\n",
              "        }\n",
              "      </script>\n",
              "    </div>\n",
              "  </div>\n",
              "  "
            ]
          },
          "metadata": {},
          "execution_count": 397
        }
      ]
    },
    {
      "cell_type": "code",
      "source": [
        "df2=pd.get_dummies(df)\n",
        "df2"
      ],
      "metadata": {
        "id": "dp1SkMwC5E1r",
        "colab": {
          "base_uri": "https://localhost:8080/",
          "height": 487
        },
        "outputId": "08d06b8d-b9ff-45d3-e93b-332a091c37e7"
      },
      "id": "dp1SkMwC5E1r",
      "execution_count": 398,
      "outputs": [
        {
          "output_type": "execute_result",
          "data": {
            "text/plain": [
              "     Weight  Length1  Length2  Length3   Height   Width  Species_Bream  \\\n",
              "0     242.0     23.2     25.4     30.0  11.5200  4.0200              1   \n",
              "1     290.0     24.0     26.3     31.2  12.4800  4.3056              1   \n",
              "2     340.0     23.9     26.5     31.1  12.3778  4.6961              1   \n",
              "3     363.0     26.3     29.0     33.5  12.7300  4.4555              1   \n",
              "4     430.0     26.5     29.0     34.0  12.4440  5.1340              1   \n",
              "..      ...      ...      ...      ...      ...     ...            ...   \n",
              "154    12.2     11.5     12.2     13.4   2.0904  1.3936              0   \n",
              "155    13.4     11.7     12.4     13.5   2.4300  1.2690              0   \n",
              "156    12.2     12.1     13.0     13.8   2.2770  1.2558              0   \n",
              "157    19.7     13.2     14.3     15.2   2.8728  2.0672              0   \n",
              "158    19.9     13.8     15.0     16.2   2.9322  1.8792              0   \n",
              "\n",
              "     Species_Parkki  Species_Perch  Species_Pike  Species_Roach  \\\n",
              "0                 0              0             0              0   \n",
              "1                 0              0             0              0   \n",
              "2                 0              0             0              0   \n",
              "3                 0              0             0              0   \n",
              "4                 0              0             0              0   \n",
              "..              ...            ...           ...            ...   \n",
              "154               0              0             0              0   \n",
              "155               0              0             0              0   \n",
              "156               0              0             0              0   \n",
              "157               0              0             0              0   \n",
              "158               0              0             0              0   \n",
              "\n",
              "     Species_Smelt  Species_Whitefish  \n",
              "0                0                  0  \n",
              "1                0                  0  \n",
              "2                0                  0  \n",
              "3                0                  0  \n",
              "4                0                  0  \n",
              "..             ...                ...  \n",
              "154              1                  0  \n",
              "155              1                  0  \n",
              "156              1                  0  \n",
              "157              1                  0  \n",
              "158              1                  0  \n",
              "\n",
              "[159 rows x 13 columns]"
            ],
            "text/html": [
              "\n",
              "  <div id=\"df-8f8bc631-b4b8-41e6-9679-aff6af1d6aa3\">\n",
              "    <div class=\"colab-df-container\">\n",
              "      <div>\n",
              "<style scoped>\n",
              "    .dataframe tbody tr th:only-of-type {\n",
              "        vertical-align: middle;\n",
              "    }\n",
              "\n",
              "    .dataframe tbody tr th {\n",
              "        vertical-align: top;\n",
              "    }\n",
              "\n",
              "    .dataframe thead th {\n",
              "        text-align: right;\n",
              "    }\n",
              "</style>\n",
              "<table border=\"1\" class=\"dataframe\">\n",
              "  <thead>\n",
              "    <tr style=\"text-align: right;\">\n",
              "      <th></th>\n",
              "      <th>Weight</th>\n",
              "      <th>Length1</th>\n",
              "      <th>Length2</th>\n",
              "      <th>Length3</th>\n",
              "      <th>Height</th>\n",
              "      <th>Width</th>\n",
              "      <th>Species_Bream</th>\n",
              "      <th>Species_Parkki</th>\n",
              "      <th>Species_Perch</th>\n",
              "      <th>Species_Pike</th>\n",
              "      <th>Species_Roach</th>\n",
              "      <th>Species_Smelt</th>\n",
              "      <th>Species_Whitefish</th>\n",
              "    </tr>\n",
              "  </thead>\n",
              "  <tbody>\n",
              "    <tr>\n",
              "      <th>0</th>\n",
              "      <td>242.0</td>\n",
              "      <td>23.2</td>\n",
              "      <td>25.4</td>\n",
              "      <td>30.0</td>\n",
              "      <td>11.5200</td>\n",
              "      <td>4.0200</td>\n",
              "      <td>1</td>\n",
              "      <td>0</td>\n",
              "      <td>0</td>\n",
              "      <td>0</td>\n",
              "      <td>0</td>\n",
              "      <td>0</td>\n",
              "      <td>0</td>\n",
              "    </tr>\n",
              "    <tr>\n",
              "      <th>1</th>\n",
              "      <td>290.0</td>\n",
              "      <td>24.0</td>\n",
              "      <td>26.3</td>\n",
              "      <td>31.2</td>\n",
              "      <td>12.4800</td>\n",
              "      <td>4.3056</td>\n",
              "      <td>1</td>\n",
              "      <td>0</td>\n",
              "      <td>0</td>\n",
              "      <td>0</td>\n",
              "      <td>0</td>\n",
              "      <td>0</td>\n",
              "      <td>0</td>\n",
              "    </tr>\n",
              "    <tr>\n",
              "      <th>2</th>\n",
              "      <td>340.0</td>\n",
              "      <td>23.9</td>\n",
              "      <td>26.5</td>\n",
              "      <td>31.1</td>\n",
              "      <td>12.3778</td>\n",
              "      <td>4.6961</td>\n",
              "      <td>1</td>\n",
              "      <td>0</td>\n",
              "      <td>0</td>\n",
              "      <td>0</td>\n",
              "      <td>0</td>\n",
              "      <td>0</td>\n",
              "      <td>0</td>\n",
              "    </tr>\n",
              "    <tr>\n",
              "      <th>3</th>\n",
              "      <td>363.0</td>\n",
              "      <td>26.3</td>\n",
              "      <td>29.0</td>\n",
              "      <td>33.5</td>\n",
              "      <td>12.7300</td>\n",
              "      <td>4.4555</td>\n",
              "      <td>1</td>\n",
              "      <td>0</td>\n",
              "      <td>0</td>\n",
              "      <td>0</td>\n",
              "      <td>0</td>\n",
              "      <td>0</td>\n",
              "      <td>0</td>\n",
              "    </tr>\n",
              "    <tr>\n",
              "      <th>4</th>\n",
              "      <td>430.0</td>\n",
              "      <td>26.5</td>\n",
              "      <td>29.0</td>\n",
              "      <td>34.0</td>\n",
              "      <td>12.4440</td>\n",
              "      <td>5.1340</td>\n",
              "      <td>1</td>\n",
              "      <td>0</td>\n",
              "      <td>0</td>\n",
              "      <td>0</td>\n",
              "      <td>0</td>\n",
              "      <td>0</td>\n",
              "      <td>0</td>\n",
              "    </tr>\n",
              "    <tr>\n",
              "      <th>...</th>\n",
              "      <td>...</td>\n",
              "      <td>...</td>\n",
              "      <td>...</td>\n",
              "      <td>...</td>\n",
              "      <td>...</td>\n",
              "      <td>...</td>\n",
              "      <td>...</td>\n",
              "      <td>...</td>\n",
              "      <td>...</td>\n",
              "      <td>...</td>\n",
              "      <td>...</td>\n",
              "      <td>...</td>\n",
              "      <td>...</td>\n",
              "    </tr>\n",
              "    <tr>\n",
              "      <th>154</th>\n",
              "      <td>12.2</td>\n",
              "      <td>11.5</td>\n",
              "      <td>12.2</td>\n",
              "      <td>13.4</td>\n",
              "      <td>2.0904</td>\n",
              "      <td>1.3936</td>\n",
              "      <td>0</td>\n",
              "      <td>0</td>\n",
              "      <td>0</td>\n",
              "      <td>0</td>\n",
              "      <td>0</td>\n",
              "      <td>1</td>\n",
              "      <td>0</td>\n",
              "    </tr>\n",
              "    <tr>\n",
              "      <th>155</th>\n",
              "      <td>13.4</td>\n",
              "      <td>11.7</td>\n",
              "      <td>12.4</td>\n",
              "      <td>13.5</td>\n",
              "      <td>2.4300</td>\n",
              "      <td>1.2690</td>\n",
              "      <td>0</td>\n",
              "      <td>0</td>\n",
              "      <td>0</td>\n",
              "      <td>0</td>\n",
              "      <td>0</td>\n",
              "      <td>1</td>\n",
              "      <td>0</td>\n",
              "    </tr>\n",
              "    <tr>\n",
              "      <th>156</th>\n",
              "      <td>12.2</td>\n",
              "      <td>12.1</td>\n",
              "      <td>13.0</td>\n",
              "      <td>13.8</td>\n",
              "      <td>2.2770</td>\n",
              "      <td>1.2558</td>\n",
              "      <td>0</td>\n",
              "      <td>0</td>\n",
              "      <td>0</td>\n",
              "      <td>0</td>\n",
              "      <td>0</td>\n",
              "      <td>1</td>\n",
              "      <td>0</td>\n",
              "    </tr>\n",
              "    <tr>\n",
              "      <th>157</th>\n",
              "      <td>19.7</td>\n",
              "      <td>13.2</td>\n",
              "      <td>14.3</td>\n",
              "      <td>15.2</td>\n",
              "      <td>2.8728</td>\n",
              "      <td>2.0672</td>\n",
              "      <td>0</td>\n",
              "      <td>0</td>\n",
              "      <td>0</td>\n",
              "      <td>0</td>\n",
              "      <td>0</td>\n",
              "      <td>1</td>\n",
              "      <td>0</td>\n",
              "    </tr>\n",
              "    <tr>\n",
              "      <th>158</th>\n",
              "      <td>19.9</td>\n",
              "      <td>13.8</td>\n",
              "      <td>15.0</td>\n",
              "      <td>16.2</td>\n",
              "      <td>2.9322</td>\n",
              "      <td>1.8792</td>\n",
              "      <td>0</td>\n",
              "      <td>0</td>\n",
              "      <td>0</td>\n",
              "      <td>0</td>\n",
              "      <td>0</td>\n",
              "      <td>1</td>\n",
              "      <td>0</td>\n",
              "    </tr>\n",
              "  </tbody>\n",
              "</table>\n",
              "<p>159 rows × 13 columns</p>\n",
              "</div>\n",
              "      <button class=\"colab-df-convert\" onclick=\"convertToInteractive('df-8f8bc631-b4b8-41e6-9679-aff6af1d6aa3')\"\n",
              "              title=\"Convert this dataframe to an interactive table.\"\n",
              "              style=\"display:none;\">\n",
              "        \n",
              "  <svg xmlns=\"http://www.w3.org/2000/svg\" height=\"24px\"viewBox=\"0 0 24 24\"\n",
              "       width=\"24px\">\n",
              "    <path d=\"M0 0h24v24H0V0z\" fill=\"none\"/>\n",
              "    <path d=\"M18.56 5.44l.94 2.06.94-2.06 2.06-.94-2.06-.94-.94-2.06-.94 2.06-2.06.94zm-11 1L8.5 8.5l.94-2.06 2.06-.94-2.06-.94L8.5 2.5l-.94 2.06-2.06.94zm10 10l.94 2.06.94-2.06 2.06-.94-2.06-.94-.94-2.06-.94 2.06-2.06.94z\"/><path d=\"M17.41 7.96l-1.37-1.37c-.4-.4-.92-.59-1.43-.59-.52 0-1.04.2-1.43.59L10.3 9.45l-7.72 7.72c-.78.78-.78 2.05 0 2.83L4 21.41c.39.39.9.59 1.41.59.51 0 1.02-.2 1.41-.59l7.78-7.78 2.81-2.81c.8-.78.8-2.07 0-2.86zM5.41 20L4 18.59l7.72-7.72 1.47 1.35L5.41 20z\"/>\n",
              "  </svg>\n",
              "      </button>\n",
              "      \n",
              "  <style>\n",
              "    .colab-df-container {\n",
              "      display:flex;\n",
              "      flex-wrap:wrap;\n",
              "      gap: 12px;\n",
              "    }\n",
              "\n",
              "    .colab-df-convert {\n",
              "      background-color: #E8F0FE;\n",
              "      border: none;\n",
              "      border-radius: 50%;\n",
              "      cursor: pointer;\n",
              "      display: none;\n",
              "      fill: #1967D2;\n",
              "      height: 32px;\n",
              "      padding: 0 0 0 0;\n",
              "      width: 32px;\n",
              "    }\n",
              "\n",
              "    .colab-df-convert:hover {\n",
              "      background-color: #E2EBFA;\n",
              "      box-shadow: 0px 1px 2px rgba(60, 64, 67, 0.3), 0px 1px 3px 1px rgba(60, 64, 67, 0.15);\n",
              "      fill: #174EA6;\n",
              "    }\n",
              "\n",
              "    [theme=dark] .colab-df-convert {\n",
              "      background-color: #3B4455;\n",
              "      fill: #D2E3FC;\n",
              "    }\n",
              "\n",
              "    [theme=dark] .colab-df-convert:hover {\n",
              "      background-color: #434B5C;\n",
              "      box-shadow: 0px 1px 3px 1px rgba(0, 0, 0, 0.15);\n",
              "      filter: drop-shadow(0px 1px 2px rgba(0, 0, 0, 0.3));\n",
              "      fill: #FFFFFF;\n",
              "    }\n",
              "  </style>\n",
              "\n",
              "      <script>\n",
              "        const buttonEl =\n",
              "          document.querySelector('#df-8f8bc631-b4b8-41e6-9679-aff6af1d6aa3 button.colab-df-convert');\n",
              "        buttonEl.style.display =\n",
              "          google.colab.kernel.accessAllowed ? 'block' : 'none';\n",
              "\n",
              "        async function convertToInteractive(key) {\n",
              "          const element = document.querySelector('#df-8f8bc631-b4b8-41e6-9679-aff6af1d6aa3');\n",
              "          const dataTable =\n",
              "            await google.colab.kernel.invokeFunction('convertToInteractive',\n",
              "                                                     [key], {});\n",
              "          if (!dataTable) return;\n",
              "\n",
              "          const docLinkHtml = 'Like what you see? Visit the ' +\n",
              "            '<a target=\"_blank\" href=https://colab.research.google.com/notebooks/data_table.ipynb>data table notebook</a>'\n",
              "            + ' to learn more about interactive tables.';\n",
              "          element.innerHTML = '';\n",
              "          dataTable['output_type'] = 'display_data';\n",
              "          await google.colab.output.renderOutput(dataTable, element);\n",
              "          const docLink = document.createElement('div');\n",
              "          docLink.innerHTML = docLinkHtml;\n",
              "          element.appendChild(docLink);\n",
              "        }\n",
              "      </script>\n",
              "    </div>\n",
              "  </div>\n",
              "  "
            ]
          },
          "metadata": {},
          "execution_count": 398
        }
      ]
    },
    {
      "cell_type": "code",
      "execution_count": 399,
      "id": "9bb2b4d3",
      "metadata": {
        "id": "9bb2b4d3"
      },
      "outputs": [],
      "source": [
        "x=df2.iloc[:,[2,3,4,5,6,7,8,9,10,11,12]].values\n",
        "y=df2.iloc[:,1].values\n"
      ]
    },
    {
      "cell_type": "code",
      "execution_count": 400,
      "id": "cdef48b2",
      "metadata": {
        "colab": {
          "base_uri": "https://localhost:8080/"
        },
        "id": "cdef48b2",
        "outputId": "a90895a4-5204-41f4-c500-d5d55d13b422"
      },
      "outputs": [
        {
          "output_type": "stream",
          "name": "stdout",
          "text": [
            "((159, 11), (159,))\n"
          ]
        }
      ],
      "source": [
        "print(f\"{x.shape , y.shape}\")"
      ]
    },
    {
      "cell_type": "code",
      "execution_count": 401,
      "id": "08112815",
      "metadata": {
        "id": "08112815"
      },
      "outputs": [],
      "source": [
        "x_train=x[:-60]"
      ]
    },
    {
      "cell_type": "code",
      "execution_count": 402,
      "id": "4ee3819f",
      "metadata": {
        "colab": {
          "base_uri": "https://localhost:8080/"
        },
        "id": "4ee3819f",
        "outputId": "21b565cd-b01a-46ad-fe2d-8ff1b8b8d350"
      },
      "outputs": [
        {
          "output_type": "stream",
          "name": "stdout",
          "text": [
            "(99, 11)\n"
          ]
        }
      ],
      "source": [
        "print(x_train.shape)"
      ]
    },
    {
      "cell_type": "code",
      "execution_count": 403,
      "id": "4c83c71f",
      "metadata": {
        "id": "4c83c71f"
      },
      "outputs": [],
      "source": [
        "x_test=x[-60:]"
      ]
    },
    {
      "cell_type": "code",
      "execution_count": 404,
      "id": "db4ccfd9",
      "metadata": {
        "colab": {
          "base_uri": "https://localhost:8080/"
        },
        "id": "db4ccfd9",
        "outputId": "36db3906-ec94-4926-edf0-10a5c82f6b70"
      },
      "outputs": [
        {
          "output_type": "stream",
          "name": "stdout",
          "text": [
            "(60, 11)\n"
          ]
        }
      ],
      "source": [
        "print(x_test.shape)"
      ]
    },
    {
      "cell_type": "code",
      "execution_count": 405,
      "id": "6a3a8578",
      "metadata": {
        "id": "6a3a8578"
      },
      "outputs": [],
      "source": [
        "y_train=y[:-60]"
      ]
    },
    {
      "cell_type": "code",
      "execution_count": 406,
      "id": "dc3d05eb",
      "metadata": {
        "id": "dc3d05eb"
      },
      "outputs": [],
      "source": [
        "y_test=y[-60:]"
      ]
    },
    {
      "cell_type": "code",
      "execution_count": 407,
      "id": "5a74ffeb",
      "metadata": {
        "colab": {
          "base_uri": "https://localhost:8080/"
        },
        "id": "5a74ffeb",
        "outputId": "d3e7dc72-66f9-4721-9659-6aa92ed34b90"
      },
      "outputs": [
        {
          "output_type": "stream",
          "name": "stdout",
          "text": [
            "(99,) (60,)\n"
          ]
        }
      ],
      "source": [
        "print(y_train.shape,y_test.shape)"
      ]
    },
    {
      "cell_type": "code",
      "execution_count": 408,
      "id": "5ca2db0a",
      "metadata": {
        "id": "5ca2db0a"
      },
      "outputs": [],
      "source": [
        "u=np.mean(x_train,axis=0)\n",
        "std=np.std(x,axis=0)\n",
        "x_train=(x_train-u)/std\n",
        "x_test=(x_test-u)/std"
      ]
    },
    {
      "cell_type": "code",
      "execution_count": 409,
      "id": "9ecc2b15",
      "metadata": {
        "colab": {
          "base_uri": "https://localhost:8080/"
        },
        "id": "9ecc2b15",
        "outputId": "7dc0469f-7efb-4190-e35a-3360d266fe2d"
      },
      "outputs": [
        {
          "output_type": "stream",
          "name": "stdout",
          "text": [
            "(99, 11) (60, 11)\n",
            "(11,)\n"
          ]
        }
      ],
      "source": [
        "print(x_train.shape,x_test.shape)\n",
        "print(u.shape)"
      ]
    },
    {
      "cell_type": "code",
      "execution_count": 410,
      "id": "69740f95",
      "metadata": {
        "colab": {
          "base_uri": "https://localhost:8080/"
        },
        "id": "69740f95",
        "outputId": "19d41c5e-fae4-43b3-ec36-076379cc3b74"
      },
      "outputs": [
        {
          "output_type": "stream",
          "name": "stdout",
          "text": [
            "26.247169811320756\n"
          ]
        }
      ],
      "source": [
        "a=np.mean(y,axis=0)\n",
        "print(a)"
      ]
    },
    {
      "cell_type": "code",
      "execution_count": 411,
      "id": "069ccd58",
      "metadata": {
        "colab": {
          "base_uri": "https://localhost:8080/"
        },
        "id": "069ccd58",
        "outputId": "77e7b298-710d-4bad-f9ad-484149d0d042"
      },
      "outputs": [
        {
          "output_type": "stream",
          "name": "stdout",
          "text": [
            "()\n"
          ]
        }
      ],
      "source": [
        "print(a.shape)\n",
        "b=np.std(y,axis=0)"
      ]
    },
    {
      "cell_type": "code",
      "execution_count": 412,
      "id": "d8a91455",
      "metadata": {
        "colab": {
          "base_uri": "https://localhost:8080/"
        },
        "id": "d8a91455",
        "outputId": "9f01d0df-e2b0-498c-8d30-17e24269feb9"
      },
      "outputs": [
        {
          "output_type": "stream",
          "name": "stdout",
          "text": [
            "9.96495627814052\n"
          ]
        }
      ],
      "source": [
        "print(b)"
      ]
    },
    {
      "cell_type": "code",
      "execution_count": 413,
      "id": "ebf9734a",
      "metadata": {
        "id": "ebf9734a"
      },
      "outputs": [],
      "source": [
        "y_test=(y_test-a)/b"
      ]
    },
    {
      "cell_type": "code",
      "execution_count": 414,
      "id": "58b3edd7",
      "metadata": {
        "id": "58b3edd7"
      },
      "outputs": [],
      "source": [
        "y_train=(y_train-a)/b"
      ]
    },
    {
      "cell_type": "code",
      "execution_count": 415,
      "id": "4800e868",
      "metadata": {
        "id": "4800e868"
      },
      "outputs": [],
      "source": [
        "x_train=np.array(x_train)\n",
        "x_test=np.array(x_test)\n",
        "y_train=np.array(y_train)\n",
        "y_test=np.array(y_test)"
      ]
    },
    {
      "cell_type": "code",
      "execution_count": 416,
      "id": "f092eac3",
      "metadata": {
        "colab": {
          "base_uri": "https://localhost:8080/",
          "height": 539
        },
        "id": "f092eac3",
        "outputId": "9b133b43-7d64-40dd-807d-3854afb944cd"
      },
      "outputs": [
        {
          "output_type": "stream",
          "name": "stderr",
          "text": [
            "<ipython-input-416-2aba1eb0b1dd>:1: MatplotlibDeprecationWarning: The seaborn styles shipped by Matplotlib are deprecated since 3.6, as they no longer correspond to the styles shipped by seaborn. However, they will remain available as 'seaborn-v0_8-<style>'. Alternatively, directly use the seaborn API instead.\n",
            "  plt.style.use('seaborn')\n"
          ]
        },
        {
          "output_type": "display_data",
          "data": {
            "text/plain": [
              "<Figure size 800x550 with 1 Axes>"
            ],
            "image/png": "[encoded data removed]"
          },
          "metadata": {}
        }
      ],
      "source": [
        "plt.style.use('seaborn')\n",
        "plt.scatter(x_train[:, 0], y_train)\n",
        "plt.show()\n",
        "\n",
        "\n"
      ]
    },
    {
      "cell_type": "code",
      "execution_count": 417,
      "id": "e19e51e3",
      "metadata": {
        "id": "e19e51e3"
      },
      "outputs": [],
      "source": [
        "ones=np.ones((x_train.shape[0],1))\n",
        "x_train=np.hstack((ones,x_train))"
      ]
    },
    {
      "cell_type": "code",
      "execution_count": 418,
      "id": "4559b32e",
      "metadata": {
        "colab": {
          "base_uri": "https://localhost:8080/"
        },
        "id": "4559b32e",
        "outputId": "933b94d0-3ad3-40e6-ffa0-0a57eab95c8a"
      },
      "outputs": [
        {
          "output_type": "stream",
          "name": "stdout",
          "text": [
            "[[ 1.         -0.04585963  0.07776266  0.39730796 -0.13290042  1.56026023\n",
            "  -0.43785208 -0.57096971  0.         -0.60921351  0.         -0.31804739]\n",
            " [ 1.          0.03838971  0.18144621  0.62198984  0.03704959  1.56026023\n",
            "  -0.43785208 -0.57096971  0.         -0.60921351  0.         -0.31804739]\n",
            " [ 1.          0.05711179  0.17280591  0.59807059  0.2694217   1.56026023\n",
            "  -0.43785208 -0.57096971  0.         -0.60921351  0.         -0.31804739]\n",
            " [ 1.          0.29113774  0.38017301  0.68050075  0.12624954  1.56026023\n",
            "  -0.43785208 -0.57096971  0.         -0.60921351  0.         -0.31804739]\n",
            " [ 1.          0.29113774  0.42337449  0.61356427  0.5299998   1.56026023\n",
            "  -0.43785208 -0.57096971  0.         -0.60921351  0.         -0.31804739]]\n"
          ]
        }
      ],
      "source": [
        "print(x_train[:5,])"
      ]
    },
    {
      "cell_type": "code",
      "execution_count": 419,
      "id": "44c708bc",
      "metadata": {
        "id": "44c708bc"
      },
      "outputs": [],
      "source": [
        "def hypothesis(x, theta):\n",
        "    return np.dot(x, theta)"
      ]
    },
    {
      "cell_type": "code",
      "execution_count": 420,
      "id": "e74d23c2",
      "metadata": {
        "id": "e74d23c2"
      },
      "outputs": [],
      "source": [
        "def cost(X, Y, theta):\n",
        "    m = X.shape[0]\n",
        "    total_error = 0\n",
        "\n",
        "    y_p = hypothesis(X, theta)\n",
        "    total_error = np.sum((y_p - Y)**2)\n",
        "\n",
        "    return total_error/m"
      ]
    },
    {
      "cell_type": "code",
      "execution_count": 421,
      "id": "ed5607c4",
      "metadata": {
        "id": "ed5607c4"
      },
      "outputs": [],
      "source": [
        "def gradient(X, Y, theta):\n",
        "\n",
        "    y_p = hypothesis(X, theta)\n",
        "\n",
        "    grad = np.dot(X.T, (y_p - Y))\n",
        "\n",
        "    return grad/X.shape[0]"
      ]
    },
    {
      "cell_type": "code",
      "execution_count": 422,
      "id": "954a21b6",
      "metadata": {
        "id": "954a21b6"
      },
      "outputs": [],
      "source": [
        "def gradient_descent(X, Y, learning_rate = 0.01, max_steps = 600):\n",
        "\n",
        "    m, n = X.shape\n",
        "    theta = np.zeros((n, ))\n",
        "    cost_epoch = []\n",
        "\n",
        "    for i in range(max_steps):\n",
        "\n",
        "        grad = gradient(X, Y, theta)\n",
        "\n",
        "        e = cost(X, Y, theta)\n",
        "        cost_epoch.append(e)\n",
        "\n",
        "        theta = theta - learning_rate*grad\n",
        "\n",
        "    return theta, cost_epoch"
      ]
    },
    {
      "cell_type": "code",
      "execution_count": 422,
      "id": "90f11dec",
      "metadata": {
        "id": "90f11dec"
      },
      "outputs": [],
      "source": []
    },
    {
      "cell_type": "code",
      "execution_count": 423,
      "id": "44d3014a",
      "metadata": {
        "id": "44d3014a"
      },
      "outputs": [],
      "source": [
        "theta, cost_epoch = gradient_descent(x_train, y_train)"
      ]
    },
    {
      "cell_type": "code",
      "execution_count": 424,
      "id": "59423976",
      "metadata": {
        "colab": {
          "base_uri": "https://localhost:8080/"
        },
        "id": "59423976",
        "outputId": "4c71107d-b73a-4ebc-8e18-4d5acc2a8114"
      },
      "outputs": [
        {
          "output_type": "execute_result",
          "data": {
            "text/plain": [
              "array([-0.25105425,  0.22963861,  0.22512302,  0.17592172,  0.21501979,\n",
              "       -0.0163005 , -0.0270686 ,  0.00859789,  0.        ,  0.01421632,\n",
              "        0.        ,  0.02519859])"
            ]
          },
          "metadata": {},
          "execution_count": 424
        }
      ],
      "source": [
        "theta"
      ]
    },
    {
      "cell_type": "code",
      "execution_count": 425,
      "id": "a21f287f",
      "metadata": {
        "colab": {
          "base_uri": "https://localhost:8080/"
        },
        "id": "a21f287f",
        "outputId": "ca3e69f8-a630-4cd2-c31e-a195b9acdd80"
      },
      "outputs": [
        {
          "output_type": "execute_result",
          "data": {
            "text/plain": [
              "[0.48155314957717504,\n",
              " 0.4506994889387677,\n",
              " 0.42217990574079906,\n",
              " 0.3958119106233818,\n",
              " 0.3714274051049316,\n",
              " 0.34887154385363217,\n",
              " 0.32800168698023513,\n",
              " 0.3086864352273324,\n",
              " 0.2908047414942081,\n",
              " 0.2742450926556994,\n",
              " 0.2589047561117139,\n",
              " 0.24468908594440963,\n",
              " 0.23151088396555178,\n",
              " 0.2192898113099584,\n",
              " 0.2079518465748006,\n",
              " 0.19742878682114695,\n",
              " 0.18765778804570887,\n",
              " 0.17858094199923025,\n",
              " 0.17014488647519616,\n",
              " 0.1623004464202002,\n",
              " 0.15500230342695118,\n",
              " 0.14820869136394865,\n",
              " 0.1418811160736216,\n",
              " 0.13598409723442226,\n",
              " 0.13048493063310293,\n",
              " 0.12535346923221252,\n",
              " 0.1205619215456653,\n",
              " 0.11608466595293959,\n",
              " 0.11189807969084543,\n",
              " 0.10798038136160935,\n",
              " 0.1043114858879279,\n",
              " 0.10087287093027339,\n",
              " 0.09764745385966837,\n",
              " 0.09461947845090742,\n",
              " 0.09177441052729009,\n",
              " 0.08909884184878038,\n",
              " 0.08658040159154422,\n",
              " 0.08420767481841905,\n",
              " 0.08197012738738324,\n",
              " 0.07985803678885203,\n",
              " 0.07786242844291598,\n",
              " 0.07597501702474373,\n",
              " 0.07418815242053597,\n",
              " 0.07249476994788025,\n",
              " 0.07088834450332895,\n",
              " 0.06936284832670099,\n",
              " 0.06791271209617665,\n",
              " 0.06653278909087673,\n",
              " 0.06521832217845118,\n",
              " 0.06396491340438548,\n",
              " 0.06276849597739885,\n",
              " 0.061625308461576184,\n",
              " 0.060531871000855345,\n",
              " 0.05948496341528641,\n",
              " 0.05848160502118181,\n",
              " 0.057519036038974576,\n",
              " 0.05659470046337343,\n",
              " 0.055706230280322594,\n",
              " 0.05485143092440965,\n",
              " 0.05402826787877513,\n",
              " 0.05323485432732475,\n",
              " 0.05246943977617752,\n",
              " 0.05173039956785137,\n",
              " 0.051016225217738284,\n",
              " 0.0503255155079888,\n",
              " 0.04965696827905771,\n",
              " 0.04900937286388484,\n",
              " 0.04838160311403492,\n",
              " 0.04777261097112745,\n",
              " 0.047181420540574386,\n",
              " 0.04660712262804252,\n",
              " 0.046048869702184164,\n",
              " 0.045505871250061176,\n",
              " 0.044977389494340506,\n",
              " 0.044462735443781765,\n",
              " 0.04396126525078786,\n",
              " 0.04347237685186117,\n",
              " 0.04299550686871595,\n",
              " 0.042530127749554184,\n",
              " 0.04207574513163134,\n",
              " 0.04163189540772733,\n",
              " 0.041198143480511255,\n",
              " 0.040774080690051596,\n",
              " 0.04035932290088828,\n",
              " 0.039953508736153664,\n",
              " 0.03955629794721796,\n",
              " 0.039167369908242156,\n",
              " 0.03878642222586046,\n",
              " 0.03841316945498354,\n",
              " 0.03804734191242528,\n",
              " 0.03768868458070887,\n",
              " 0.03733695609501103,\n",
              " 0.036991927806756975,\n",
              " 0.03665338291789065,\n",
              " 0.03632111568031428,\n",
              " 0.035994930655425375,\n",
              " 0.035674642029077774,\n",
              " 0.035360072977661625,\n",
              " 0.03505105508133492,\n",
              " 0.0347474277807519,\n",
              " 0.03444903787392003,\n",
              " 0.03415573905008239,\n",
              " 0.033867391457765655,\n",
              " 0.03358386130435835,\n",
              " 0.03330502048479086,\n",
              " 0.03303074623707884,\n",
              " 0.032760920822667454,\n",
              " 0.03249543122967497,\n",
              " 0.03223416889728343,\n",
              " 0.031977029459661105,\n",
              " 0.03172391250792745,\n",
              " 0.03147472136878815,\n",
              " 0.031229362898574503,\n",
              " 0.030987747291520318,\n",
              " 0.03074978790120064,\n",
              " 0.03051540107413997,\n",
              " 0.03028450599467544,\n",
              " 0.03005702454023088,\n",
              " 0.029832881146223785,\n",
              " 0.02961200267988731,\n",
              " 0.029394318322345122,\n",
              " 0.02917975945832811,\n",
              " 0.028968259572969526,\n",
              " 0.02875975415515805,\n",
              " 0.02855418060696914,\n",
              " 0.028351478158731427,\n",
              " 0.028151587789319157,\n",
              " 0.027954452151293233,\n",
              " 0.02776001550054227,\n",
              " 0.02756822363010149,\n",
              " 0.027379023807852464,\n",
              " 0.02719236471782879,\n",
              " 0.027008196404873938,\n",
              " 0.026826470222417076,\n",
              " 0.02664713878314972,\n",
              " 0.02647015591240324,\n",
              " 0.026295476604041756,\n",
              " 0.026123056978699304,\n",
              " 0.025952854244202673,\n",
              " 0.025784826658033434,\n",
              " 0.025618933491693474,\n",
              " 0.02545513499684842,\n",
              " 0.025293392373132783,\n",
              " 0.02513366773750897,\n",
              " 0.024975924095080655,\n",
              " 0.024820125311267836,\n",
              " 0.024666236085257986,\n",
              " 0.02451422192465386,\n",
              " 0.0243640491212442,\n",
              " 0.024215684727828916,\n",
              " 0.024069096536035353,\n",
              " 0.023924253055066524,\n",
              " 0.02378112349132667,\n",
              " 0.02363967772887316,\n",
              " 0.02349988631064742,\n",
              " 0.02336172042044084,\n",
              " 0.023225151865554697,\n",
              " 0.023090153060115862,\n",
              " 0.022956697009012834,\n",
              " 0.022824757292418965,\n",
              " 0.022694308050871817,\n",
              " 0.022565323970880048,\n",
              " 0.022437780271030733,\n",
              " 0.02231165268857203,\n",
              " 0.022186917466447666,\n",
              " 0.022063551340761316,\n",
              " 0.02194153152865016,\n",
              " 0.021820835716548533,\n",
              " 0.021701442048823422,\n",
              " 0.02158332911676497,\n",
              " 0.021466475947916078,\n",
              " 0.021350861995726153,\n",
              " 0.021236467129514967,\n",
              " 0.021123271624733507,\n",
              " 0.021011256153509163,\n",
              " 0.02090040177546394,\n",
              " 0.02079068992879428,\n",
              " 0.020682102421602223,\n",
              " 0.02057462142346825,\n",
              " 0.02046822945725626,\n",
              " 0.020362909391141982,\n",
              " 0.020258644430856662,\n",
              " 0.020155418112137898,\n",
              " 0.020053214293380375,\n",
              " 0.019952017148479335,\n",
              " 0.019851811159859987,\n",
              " 0.01975258111168659,\n",
              " 0.019654312083245095,\n",
              " 0.019556989442493455,\n",
              " 0.019460598839774287,\n",
              " 0.01936512620168447,\n",
              " 0.019270557725096702,\n",
              " 0.019176879871328274,\n",
              " 0.019084079360452453,\n",
              " 0.01899214316574817,\n",
              " 0.018901058508283577,\n",
              " 0.018810812851629898,\n",
              " 0.01872139389670124,\n",
              " 0.018632789576717185,\n",
              " 0.01854498805228405,\n",
              " 0.01845797770659201,\n",
              " 0.018371747140724363,\n",
              " 0.018286285169076037,\n",
              " 0.01820158081487827,\n",
              " 0.018117623305826457,\n",
              " 0.018034402069808546,\n",
              " 0.017951906730731087,\n",
              " 0.017870127104440477,\n",
              " 0.017789053194736806,\n",
              " 0.017708675189477843,\n",
              " 0.017628983456771,\n",
              " 0.017549968541250745,\n",
              " 0.017471621160439474,\n",
              " 0.017393932201189614,\n",
              " 0.01731689271620498,\n",
              " 0.01724049392063935,\n",
              " 0.01716472718877029,\n",
              " 0.017089584050746492,\n",
              " 0.017015056189406703,\n",
              " 0.016941135437168513,\n",
              " 0.01686781377298534,\n",
              " 0.016795083319369936,\n",
              " 0.016722936339482786,\n",
              " 0.0166513652342839,\n",
              " 0.016580362539746426,\n",
              " 0.016509920924130658,\n",
              " 0.016440033185316998,\n",
              " 0.016370692248196473,\n",
              " 0.016301891162117457,\n",
              " 0.016233623098387308,\n",
              " 0.01616588134782762,\n",
              " 0.016098659318381867,\n",
              " 0.016031950532774165,\n",
              " 0.015965748626218104,\n",
              " 0.015900047344174356,\n",
              " 0.01583484054015604,\n",
              " 0.015770122173580703,\n",
              " 0.01570588630766791,\n",
              " 0.015642127107381342,\n",
              " 0.015578838837414458,\n",
              " 0.015516015860218698,\n",
              " 0.015453652634073266,\n",
              " 0.015391743711195628,\n",
              " 0.015330283735891698,\n",
              " 0.01526926744274496,\n",
              " 0.015208689654843528,\n",
              " 0.015148545282044415,\n",
              " 0.01508882931927409,\n",
              " 0.015029536844864593,\n",
              " 0.014970663018924411,\n",
              " 0.014912203081743253,\n",
              " 0.014854152352230188,\n",
              " 0.014796506226384138,\n",
              " 0.014739260175796258,\n",
              " 0.014682409746183392,\n",
              " 0.014625950555951941,\n",
              " 0.014569878294791432,\n",
              " 0.0145141887222973,\n",
              " 0.014458877666622015,\n",
              " 0.014403941023154187,\n",
              " 0.014349374753224812,\n",
              " 0.014295174882840263,\n",
              " 0.014241337501441308,\n",
              " 0.014187858760687693,\n",
              " 0.014134734873267692,\n",
              " 0.014081962111732033,\n",
              " 0.01402953680735186,\n",
              " 0.013977455348999973,\n",
              " 0.013925714182054988,\n",
              " 0.013874309807328011,\n",
              " 0.01382323878001106,\n",
              " 0.013772497708647132,\n",
              " 0.013722083254121133,\n",
              " 0.013671992128671434,\n",
              " 0.013622221094921533,\n",
              " 0.013572766964931413,\n",
              " 0.013523626599268155,\n",
              " 0.013474796906095427,\n",
              " 0.013426274840281463,\n",
              " 0.013378057402525045,\n",
              " 0.01333014163849929,\n",
              " 0.013282524638012634,\n",
              " 0.013235203534186887,\n",
              " 0.013188175502651792,\n",
              " 0.013141437760755862,\n",
              " 0.01309498756679316,\n",
              " 0.013048822219245613,\n",
              " 0.013002939056040571,\n",
              " 0.012957335453823311,\n",
              " 0.012912008827244149,\n",
              " 0.01286695662825983,\n",
              " 0.012822176345448983,\n",
              " 0.012777665503341263,\n",
              " 0.012733421661759883,\n",
              " 0.012689442415177377,\n",
              " 0.012645725392084167,\n",
              " 0.012602268254369775,\n",
              " 0.012559068696716363,\n",
              " 0.012516124446004376,\n",
              " 0.012473433260730015,\n",
              " 0.01243099293043429,\n",
              " 0.012388801275143468,\n",
              " 0.012346856144820551,\n",
              " 0.012305155418827747,\n",
              " 0.012263697005399511,\n",
              " 0.012222478841126115,\n",
              " 0.012181498890447328,\n",
              " 0.01214075514515621,\n",
              " 0.012100245623912695,\n",
              " 0.012059968371766724,\n",
              " 0.012019921459690849,\n",
              " 0.011980102984122007,\n",
              " 0.011940511066512342,\n",
              " 0.01190114385288889,\n",
              " 0.011861999513421834,\n",
              " 0.011823076242001324,\n",
              " 0.011784372255822606,\n",
              " 0.011745885794979198,\n",
              " 0.011707615122064115,\n",
              " 0.011669558521778891,\n",
              " 0.011631714300550188,\n",
              " 0.011594080786154011,\n",
              " 0.011556656327347101,\n",
              " 0.01151943929350566,\n",
              " 0.01148242807427104,\n",
              " 0.011445621079202334,\n",
              " 0.011409016737435747,\n",
              " 0.011372613497350574,\n",
              " 0.01133640982624165,\n",
              " 0.011300404209998175,\n",
              " 0.011264595152788739,\n",
              " 0.011228981176752468,\n",
              " 0.01119356082169612,\n",
              " 0.011158332644797028,\n",
              " 0.011123295220311817,\n",
              " 0.011088447139290698,\n",
              " 0.011053787009297268,\n",
              " 0.011019313454133726,\n",
              " 0.010985025113571351,\n",
              " 0.010950920643086151,\n",
              " 0.010916998713599614,\n",
              " 0.010883258011224398,\n",
              " 0.010849697237014885,\n",
              " 0.01081631510672253,\n",
              " 0.010783110350555897,\n",
              " 0.010750081712945215,\n",
              " 0.010717227952311474,\n",
              " 0.010684547840839902,\n",
              " 0.010652040164257756,\n",
              " 0.010619703721616329,\n",
              " 0.010587537325077102,\n",
              " 0.010555539799701929,\n",
              " 0.010523709983247245,\n",
              " 0.010492046725962092,\n",
              " 0.010460548890390043,\n",
              " 0.010429215351174815,\n",
              " 0.010398044994869545,\n",
              " 0.010367036719749667,\n",
              " 0.010336189435629339,\n",
              " 0.010305502063681268,\n",
              " 0.010274973536259936,\n",
              " 0.010244602796728149,\n",
              " 0.010214388799286824,\n",
              " 0.010184330508807961,\n",
              " 0.010154426900670704,\n",
              " 0.010124676960600517,\n",
              " 0.01009507968451132,\n",
              " 0.010065634078350523,\n",
              " 0.010036339157947034,\n",
              " 0.01000719394886199,\n",
              " 0.00997819748624231,\n",
              " 0.009949348814676944,\n",
              " 0.009920646988055766,\n",
              " 0.00989209106943108,\n",
              " 0.00986368013088167,\n",
              " 0.009835413253379385,\n",
              " 0.009807289526658112,\n",
              " 0.009779308049085195,\n",
              " 0.009751467927535234,\n",
              " 0.009723768277266105,\n",
              " 0.00969620822179737,\n",
              " 0.00966878689279075,\n",
              " 0.009641503429932936,\n",
              " 0.009614356980820403,\n",
              " 0.0095873467008464,\n",
              " 0.009560471753089918,\n",
              " 0.009533731308206733,\n",
              " 0.009507124544322374,\n",
              " 0.009480650646927033,\n",
              " 0.009454308808772377,\n",
              " 0.009428098229770207,\n",
              " 0.009402018116892936,\n",
              " 0.00937606768407585,\n",
              " 0.009350246152121112,\n",
              " 0.009324552748603507,\n",
              " 0.009298986707777835,\n",
              " 0.00927354727048795,\n",
              " 0.009248233684077468,\n",
              " 0.009223045202301987,\n",
              " 0.009197981085242895,\n",
              " 0.009173040599222724,\n",
              " 0.009148223016721958,\n",
              " 0.009123527616297297,\n",
              " 0.009098953682501435,\n",
              " 0.009074500505804129,\n",
              " 0.00905016738251476,\n",
              " 0.009025953614706156,\n",
              " 0.009001858510139816,\n",
              " 0.008977881382192385,\n",
              " 0.00895402154978343,\n",
              " 0.00893027833730446,\n",
              " 0.008906651074549172,\n",
              " 0.008883139096644906,\n",
              " 0.008859741743985279,\n",
              " 0.008836458362163966,\n",
              " 0.008813288301909637,\n",
              " 0.008790230919022,\n",
              " 0.008767285574308909,\n",
              " 0.008744451633524586,\n",
              " 0.00872172846730886,\n",
              " 0.008699115451127478,\n",
              " 0.008676611965213342,\n",
              " 0.008654217394508857,\n",
              " 0.008631931128609136,\n",
              " 0.008609752561706242,\n",
              " 0.008587681092534308,\n",
              " 0.008565716124315613,\n",
              " 0.008543857064707538,\n",
              " 0.008522103325750409,\n",
              " 0.008500454323816206,\n",
              " 0.008478909479558129,\n",
              " 0.008457468217860973,\n",
              " 0.008436129967792331,\n",
              " 0.008414894162554662,\n",
              " 0.008393760239437996,\n",
              " 0.008372727639773574,\n",
              " 0.008351795808888141,\n",
              " 0.008330964196059014,\n",
              " 0.008310232254469894,\n",
              " 0.008289599441167353,\n",
              " 0.008269065217018062,\n",
              " 0.00824862904666668,\n",
              " 0.008228290398494438,\n",
              " 0.008208048744578372,\n",
              " 0.008187903560651189,\n",
              " 0.008167854326061834,\n",
              " 0.0081479005237366,\n",
              " 0.008128041640140894,\n",
              " 0.00810827716524164,\n",
              " 0.008088606592470186,\n",
              " 0.008069029418685869,\n",
              " 0.008049545144140123,\n",
              " 0.008030153272441122,\n",
              " 0.008010853310519017,\n",
              " 0.007991644768591667,\n",
              " 0.007972527160130931,\n",
              " 0.007953500001829459,\n",
              " 0.007934562813567993,\n",
              " 0.007915715118383177,\n",
              " 0.00789695644243585,\n",
              " 0.007878286314979823,\n",
              " 0.007859704268331118,\n",
              " 0.00784120983783769,\n",
              " 0.007822802561849578,\n",
              " 0.007804481981689527,\n",
              " 0.007786247641624031,\n",
              " 0.00776809908883482,\n",
              " 0.007750035873390759,\n",
              " 0.007732057548220143,\n",
              " 0.007714163669083469,\n",
              " 0.007696353794546495,\n",
              " 0.007678627485953814,\n",
              " 0.0076609843074027205,\n",
              " 0.007643423825717491,\n",
              " 0.007625945610424043,\n",
              " 0.007608549233724932,\n",
              " 0.007591234270474761,\n",
              " 0.007574000298155856,\n",
              " 0.007556846896854357,\n",
              " 0.007539773649236628,\n",
              " 0.007522780140525986,\n",
              " 0.007505865958479789,\n",
              " 0.0074890306933667865,\n",
              " 0.007472273937944857,\n",
              " 0.007455595287439004,\n",
              " 0.007438994339519671,\n",
              " 0.007422470694281365,\n",
              " 0.007406023954221557,\n",
              " 0.0073896537242198745,\n",
              " 0.007373359611517607,\n",
              " 0.0073571412256974176,\n",
              " 0.00734099817866342,\n",
              " 0.007324930084621436,\n",
              " 0.007308936560059594,\n",
              " 0.007293017223729126,\n",
              " 0.007277171696625451,\n",
              " 0.007261399601969496,\n",
              " 0.007245700565189274,\n",
              " 0.007230074213901685,\n",
              " 0.00721452017789458,\n",
              " 0.007199038089109029,\n",
              " 0.007183627581621832,\n",
              " 0.007168288291628269,\n",
              " 0.007153019857425044,\n",
              " 0.007137821919393459,\n",
              " 0.007122694119982805,\n",
              " 0.007107636103693961,\n",
              " 0.0070926475170631975,\n",
              " 0.007077728008646168,\n",
              " 0.00706287722900214,\n",
              " 0.007048094830678376,\n",
              " 0.007033380468194734,\n",
              " 0.0070187337980284524,\n",
              " 0.007004154478599115,\n",
              " 0.006989642170253803,\n",
              " 0.0069751965352524235,\n",
              " 0.00696081723775324,\n",
              " 0.006946503943798518,\n",
              " 0.006932256321300409,\n",
              " 0.006918074040026956,\n",
              " 0.006903956771588286,\n",
              " 0.006889904189422955,\n",
              " 0.006875915968784464,\n",
              " 0.006861991786727918,\n",
              " 0.006848131322096845,\n",
              " 0.00683433425551019,\n",
              " 0.006820600269349406,\n",
              " 0.006806929047745735,\n",
              " 0.006793320276567639,\n",
              " 0.006779773643408338,\n",
              " 0.006766288837573506,\n",
              " 0.006752865550069116,\n",
              " 0.006739503473589415,\n",
              " 0.006726202302505004,\n",
              " 0.006712961732851087,\n",
              " 0.0066997814623158515,\n",
              " 0.006686661190228916,\n",
              " 0.006673600617549996,\n",
              " 0.006660599446857599,\n",
              " 0.0066476573823379325,\n",
              " 0.006634774129773821,\n",
              " 0.0066219493965338685,\n",
              " 0.006609182891561619,\n",
              " 0.006596474325364912,\n",
              " 0.0065838234100053065,\n",
              " 0.006571229859087636,\n",
              " 0.006558693387749665,\n",
              " 0.006546213712651844,\n",
              " 0.006533790551967183,\n",
              " 0.006521423625371231,\n",
              " 0.006509112654032136,\n",
              " 0.006496857360600822,\n",
              " 0.006484657469201281,\n",
              " 0.006472512705420904,\n",
              " 0.006460422796300995,\n",
              " 0.006448387470327289,\n",
              " 0.006436406457420634,\n",
              " 0.006424479488927724,\n",
              " 0.00641260629761194,\n",
              " 0.006400786617644269,\n",
              " 0.006389020184594315,\n",
              " 0.0063773067354214105,\n",
              " 0.006365646008465789,\n",
              " 0.006354037743439846,\n",
              " 0.00634248168141951,\n",
              " 0.006330977564835648,\n",
              " 0.006319525137465595,\n",
              " 0.006308124144424748,\n",
              " 0.006296774332158215,\n",
              " 0.00628547544843257,\n",
              " 0.006274227242327685,\n",
              " 0.006263029464228613,\n",
              " 0.006251881865817552,\n",
              " 0.0062407842000659,\n",
              " 0.006229736221226368,\n",
              " 0.006218737684825149,\n",
              " 0.006207788347654185,\n",
              " 0.006196887967763479,\n",
              " 0.006186036304453502,\n",
              " 0.00617523311826762,\n",
              " 0.006164478170984645,\n",
              " 0.006153771225611406,\n",
              " 0.006143112046375394,\n",
              " 0.006132500398717496,\n",
              " 0.006121936049284752,\n",
              " 0.0061114187659232055,\n",
              " 0.006100948317670782,\n",
              " 0.006090524474750278,\n",
              " 0.006080147008562356,\n",
              " 0.006069815691678608,\n",
              " 0.006059530297834723,\n",
              " 0.00604929060192365,\n",
              " 0.0060390963799888415,\n",
              " 0.00602894740921758,\n",
              " 0.006018843467934296,\n",
              " 0.0060087843355940114,\n",
              " 0.005998769792775773,\n",
              " 0.005988799621176189,\n",
              " 0.005978873603602982,\n",
              " 0.005968991523968605]"
            ]
          },
          "metadata": {},
          "execution_count": 425
        }
      ],
      "source": [
        "cost_epoch"
      ]
    },
    {
      "cell_type": "code",
      "execution_count": 426,
      "id": "a552a0c3",
      "metadata": {
        "id": "a552a0c3"
      },
      "outputs": [],
      "source": [
        "ones=np.ones((x_test.shape[0],1))\n",
        "x_test=np.hstack((ones,x_test))\n"
      ]
    },
    {
      "cell_type": "code",
      "execution_count": 427,
      "id": "3155618e",
      "metadata": {
        "colab": {
          "base_uri": "https://localhost:8080/",
          "height": 502
        },
        "id": "3155618e",
        "outputId": "378d0023-77d4-4d80-9cb9-4dffb62aeeed"
      },
      "outputs": [
        {
          "output_type": "execute_result",
          "data": {
            "text/plain": [
              "[<matplotlib.lines.Line2D at 0x7f7b49ee5490>]"
            ]
          },
          "metadata": {},
          "execution_count": 427
        },
        {
          "output_type": "display_data",
          "data": {
            "text/plain": [
              "<Figure size 800x550 with 1 Axes>"
            ],
            "image/png": "[encoded data removed]"
          },
          "metadata": {}
        }
      ],
      "source": [
        "plt.plot(cost_epoch)"
      ]
    },
    {
      "cell_type": "code",
      "execution_count": 428,
      "id": "0e234517",
      "metadata": {
        "id": "0e234517"
      },
      "outputs": [],
      "source": [
        "y_pred_test=[]\n",
        "for i in range(x_test.shape[0]):\n",
        "    pred=hypothesis(x_test[i],theta)\n",
        "    y_pred_test.append(pred)\n",
        "y_pred_test=np.array(y_pred_test)"
      ]
    },
    {
      "cell_type": "code",
      "execution_count": 429,
      "id": "0b603490",
      "metadata": {
        "colab": {
          "base_uri": "https://localhost:8080/"
        },
        "id": "0b603490",
        "outputId": "e9e427f0-93ee-4a6c-807a-4e8a5f49c379"
      },
      "outputs": [
        {
          "output_type": "stream",
          "name": "stdout",
          "text": [
            "-0.5094983916440406 -0.32585891203997175\n",
            "-0.41079583932840846 -0.27568307724009233\n",
            "-0.35916069587004607 -0.12515557284045406\n",
            "-0.15369925420792432 -0.10508523892050238\n",
            "-0.29575239895847727 -0.08501490500055067\n",
            "-0.30051203909941626 -0.08501490500055067\n",
            "-0.261410642889693 -0.08501490500055067\n",
            "-0.26511993854453797 -0.03483907020067126\n",
            "-0.1909682340068722 0.06551259939908759\n",
            "-0.11516726221519012 0.15582910203887076\n",
            "0.2505924504258915 0.4267786099582196\n",
            "0.39236824703389145 0.5773061143578578\n",
            "0.6495786733381623 0.6274819491577373\n",
            "0.5706706924016837 0.7780094535573755\n",
            "0.5193479908889638 0.7780094535573755\n",
            "0.5106120878035121 0.8281852883572549\n",
            "0.5108769467676082 0.838220455317231\n",
            "0.7621510406967629 1.0288886275567726\n",
            "0.5714538712380236 1.0288886275567726\n",
            "0.7953441107022586 1.0389237945167487\n",
            "0.7842462857103139 1.069029295396676\n",
            "0.7951344247799805 1.079064462356652\n",
            "0.850360324411442 1.079064462356652\n",
            "0.694505831593193 1.0890996293166282\n",
            "0.8774118991549282 1.2797678015561698\n",
            "0.9271715574637337 1.3600491372359766\n",
            "0.9746986220395193 1.3901546381159047\n",
            "1.091767873693437 1.4001898050758805\n",
            "1.0395572891631755 1.4905063077156635\n",
            "-0.2844064280285501 0.3766027751583402\n",
            "-0.08364402356682163 0.5472006134779301\n",
            "-0.00431598731947749 0.6475522830776893\n",
            "0.03241972208046915 0.8582907892371823\n",
            "0.17355240153842572 0.9285369579570137\n",
            "0.08051112411714609 0.9787127927568933\n",
            "0.33463226745366087 1.3801194711559286\n",
            "0.3333636095639394 1.3801194711559286\n",
            "0.47531836369540353 1.3901546381159047\n",
            "0.4972059372163318 1.5808228103554463\n",
            "0.5632479261458943 1.7012448138751572\n",
            "0.7150007283141553 1.8618074852347708\n",
            "1.0234543803466678 2.213038328833927\n",
            "1.3819479428141959 2.5843395063530346\n",
            "1.3992546910640966 2.98574618475207\n",
            "1.3992546910640966 2.98574618475207\n",
            "1.7709919140536332 3.286801193551346\n",
            "-1.690439433377307 -1.7006767855566678\n",
            "-1.635847563354532 -1.6304306168368368\n",
            "-1.6452119613180387 -1.6203954498768611\n",
            "-1.579946862297931 -1.590289948996933\n",
            "-1.585664681385111 -1.5601844481170055\n",
            "-1.5829243666016475 -1.5501492811570297\n",
            "-1.552925010498352 -1.4999734463571501\n",
            "-1.5680103542176123 -1.4999734463571501\n",
            "-1.5643961908653672 -1.4899382793971743\n",
            "-1.529526962639803 -1.4799031124371984\n",
            "-1.5252426603146714 -1.4598327785172467\n",
            "-1.5144978053752782 -1.4196921106773432\n",
            "-1.3309704849160697 -1.3093052741176086\n",
            "-1.3180805641574365 -1.249094272357753\n"
          ]
        }
      ],
      "source": [
        "for i in range(len(y_pred_test)):\n",
        "    print(y_pred_test[i],y_test[i])"
      ]
    },
    {
      "cell_type": "code",
      "execution_count": 430,
      "id": "7bdf657f",
      "metadata": {
        "colab": {
          "base_uri": "https://localhost:8080/"
        },
        "id": "7bdf657f",
        "outputId": "3bcdb72c-8b2a-4d83-b464-40e41feba382"
      },
      "outputs": [
        {
          "output_type": "stream",
          "name": "stdout",
          "text": [
            "MAE 0.4351629086932738\n",
            "MSE 0.37824124252499886\n",
            "RMSE 0.6150132051631078\n",
            "Accuracy 0.8870416414342553\n"
          ]
        }
      ],
      "source": [
        "from sklearn import metrics\n",
        "print('MAE',metrics.mean_absolute_error(y_test,y_pred_test))\n",
        "print('MSE',metrics.mean_squared_error(y_test,y_pred_test))\n",
        "print('RMSE',np.sqrt(metrics.mean_squared_error(y_test,y_pred_test)))\n",
        "print('Accuracy',metrics.explained_variance_score(y_test,y_pred_test))"
      ]
    },
    {
      "cell_type": "code",
      "execution_count": 430,
      "id": "7c35e505",
      "metadata": {
        "id": "7c35e505"
      },
      "outputs": [],
      "source": []
    },
    {
      "cell_type": "code",
      "execution_count": 430,
      "id": "c74adb6e",
      "metadata": {
        "id": "c74adb6e"
      },
      "outputs": [],
      "source": []
    },
    {
      "cell_type": "code",
      "execution_count": 430,
      "id": "160bbcaf",
      "metadata": {
        "id": "160bbcaf"
      },
      "outputs": [],
      "source": []
    }
  ],
  "metadata": {
    "kernelspec": {
      "display_name": "Python 3 (ipykernel)",
      "language": "python",
      "name": "python3"
    },
    "language_info": {
      "codemirror_mode": {
        "name": "ipython",
        "version": 3
      },
      "file_extension": ".py",
      "mimetype": "text/x-python",
      "name": "python",
      "nbconvert_exporter": "python",
      "pygments_lexer": "ipython3",
      "version": "3.10.4"
    },
    "colab": {
      "provenance": [],
      "include_colab_link": true
    }
  },
  "nbformat": 4,
  "nbformat_minor": 5
}