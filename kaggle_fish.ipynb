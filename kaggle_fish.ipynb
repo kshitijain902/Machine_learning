{
  "cells": [
    {
      "cell_type": "markdown",
      "metadata": {
        "id": "view-in-github",
        "colab_type": "text"
      },
      "source": [
        "<a href=\"https://colab.research.google.com/github/kshitijain902/Machine_learning/blob/main/kaggle_fish.ipynb\" target=\"_parent\"><img src=\"https://colab.research.google.com/assets/colab-badge.svg\" alt=\"Open In Colab\"/></a>"
      ]
    },
    {
      "cell_type": "code",
      "execution_count": null,
      "id": "7b56de4b",
      "metadata": {
        "id": "7b56de4b"
      },
      "outputs": [],
      "source": [
        "import pandas as pd\n",
        "import numpy as np\n",
        "import matplotlib.pyplot as plt"
      ]
    },
    {
      "cell_type": "code",
      "source": [
        "from google.colab import drive\n",
        "drive.mount('/content/drive')\n",
        "df=pd.read_csv('/content/drive/MyDrive/dataset/fish.csv')\n",
        "df"
      ],
      "metadata": {
        "colab": {
          "base_uri": "https://localhost:8080/",
          "height": 461
        },
        "id": "dD8Biqcz4aFE",
        "outputId": "8b3b1963-b854-49a8-b504-584e71b8cea6"
      },
      "id": "dD8Biqcz4aFE",
      "execution_count": null,
      "outputs": [
        {
          "output_type": "stream",
          "name": "stdout",
          "text": [
            "Drive already mounted at /content/drive; to attempt to forcibly remount, call drive.mount(\"/content/drive\", force_remount=True).\n"
          ]
        },
        {
          "output_type": "execute_result",
          "data": {
            "text/plain": [
              "    Species  Weight  Length1  Length2  Length3   Height   Width\n",
              "0     Bream   242.0     23.2     25.4     30.0  11.5200  4.0200\n",
              "1     Bream   290.0     24.0     26.3     31.2  12.4800  4.3056\n",
              "2     Bream   340.0     23.9     26.5     31.1  12.3778  4.6961\n",
              "3     Bream   363.0     26.3     29.0     33.5  12.7300  4.4555\n",
              "4     Bream   430.0     26.5     29.0     34.0  12.4440  5.1340\n",
              "..      ...     ...      ...      ...      ...      ...     ...\n",
              "154   Smelt    12.2     11.5     12.2     13.4   2.0904  1.3936\n",
              "155   Smelt    13.4     11.7     12.4     13.5   2.4300  1.2690\n",
              "156   Smelt    12.2     12.1     13.0     13.8   2.2770  1.2558\n",
              "157   Smelt    19.7     13.2     14.3     15.2   2.8728  2.0672\n",
              "158   Smelt    19.9     13.8     15.0     16.2   2.9322  1.8792\n",
              "\n",
              "[159 rows x 7 columns]"
            ],
            "text/html": [
              "\n",
              "  <div id=\"df-9112e775-0437-402e-a0bd-973a80f98a54\">\n",
              "    <div class=\"colab-df-container\">\n",
              "      <div>\n",
              "<style scoped>\n",
              "    .dataframe tbody tr th:only-of-type {\n",
              "        vertical-align: middle;\n",
              "    }\n",
              "\n",
              "    .dataframe tbody tr th {\n",
              "        vertical-align: top;\n",
              "    }\n",
              "\n",
              "    .dataframe thead th {\n",
              "        text-align: right;\n",
              "    }\n",
              "</style>\n",
              "<table border=\"1\" class=\"dataframe\">\n",
              "  <thead>\n",
              "    <tr style=\"text-align: right;\">\n",
              "      <th></th>\n",
              "      <th>Species</th>\n",
              "      <th>Weight</th>\n",
              "      <th>Length1</th>\n",
              "      <th>Length2</th>\n",
              "      <th>Length3</th>\n",
              "      <th>Height</th>\n",
              "      <th>Width</th>\n",
              "    </tr>\n",
              "  </thead>\n",
              "  <tbody>\n",
              "    <tr>\n",
              "      <th>0</th>\n",
              "      <td>Bream</td>\n",
              "      <td>242.0</td>\n",
              "      <td>23.2</td>\n",
              "      <td>25.4</td>\n",
              "      <td>30.0</td>\n",
              "      <td>11.5200</td>\n",
              "      <td>4.0200</td>\n",
              "    </tr>\n",
              "    <tr>\n",
              "      <th>1</th>\n",
              "      <td>Bream</td>\n",
              "      <td>290.0</td>\n",
              "      <td>24.0</td>\n",
              "      <td>26.3</td>\n",
              "      <td>31.2</td>\n",
              "      <td>12.4800</td>\n",
              "      <td>4.3056</td>\n",
              "    </tr>\n",
              "    <tr>\n",
              "      <th>2</th>\n",
              "      <td>Bream</td>\n",
              "      <td>340.0</td>\n",
              "      <td>23.9</td>\n",
              "      <td>26.5</td>\n",
              "      <td>31.1</td>\n",
              "      <td>12.3778</td>\n",
              "      <td>4.6961</td>\n",
              "    </tr>\n",
              "    <tr>\n",
              "      <th>3</th>\n",
              "      <td>Bream</td>\n",
              "      <td>363.0</td>\n",
              "      <td>26.3</td>\n",
              "      <td>29.0</td>\n",
              "      <td>33.5</td>\n",
              "      <td>12.7300</td>\n",
              "      <td>4.4555</td>\n",
              "    </tr>\n",
              "    <tr>\n",
              "      <th>4</th>\n",
              "      <td>Bream</td>\n",
              "      <td>430.0</td>\n",
              "      <td>26.5</td>\n",
              "      <td>29.0</td>\n",
              "      <td>34.0</td>\n",
              "      <td>12.4440</td>\n",
              "      <td>5.1340</td>\n",
              "    </tr>\n",
              "    <tr>\n",
              "      <th>...</th>\n",
              "      <td>...</td>\n",
              "      <td>...</td>\n",
              "      <td>...</td>\n",
              "      <td>...</td>\n",
              "      <td>...</td>\n",
              "      <td>...</td>\n",
              "      <td>...</td>\n",
              "    </tr>\n",
              "    <tr>\n",
              "      <th>154</th>\n",
              "      <td>Smelt</td>\n",
              "      <td>12.2</td>\n",
              "      <td>11.5</td>\n",
              "      <td>12.2</td>\n",
              "      <td>13.4</td>\n",
              "      <td>2.0904</td>\n",
              "      <td>1.3936</td>\n",
              "    </tr>\n",
              "    <tr>\n",
              "      <th>155</th>\n",
              "      <td>Smelt</td>\n",
              "      <td>13.4</td>\n",
              "      <td>11.7</td>\n",
              "      <td>12.4</td>\n",
              "      <td>13.5</td>\n",
              "      <td>2.4300</td>\n",
              "      <td>1.2690</td>\n",
              "    </tr>\n",
              "    <tr>\n",
              "      <th>156</th>\n",
              "      <td>Smelt</td>\n",
              "      <td>12.2</td>\n",
              "      <td>12.1</td>\n",
              "      <td>13.0</td>\n",
              "      <td>13.8</td>\n",
              "      <td>2.2770</td>\n",
              "      <td>1.2558</td>\n",
              "    </tr>\n",
              "    <tr>\n",
              "      <th>157</th>\n",
              "      <td>Smelt</td>\n",
              "      <td>19.7</td>\n",
              "      <td>13.2</td>\n",
              "      <td>14.3</td>\n",
              "      <td>15.2</td>\n",
              "      <td>2.8728</td>\n",
              "      <td>2.0672</td>\n",
              "    </tr>\n",
              "    <tr>\n",
              "      <th>158</th>\n",
              "      <td>Smelt</td>\n",
              "      <td>19.9</td>\n",
              "      <td>13.8</td>\n",
              "      <td>15.0</td>\n",
              "      <td>16.2</td>\n",
              "      <td>2.9322</td>\n",
              "      <td>1.8792</td>\n",
              "    </tr>\n",
              "  </tbody>\n",
              "</table>\n",
              "<p>159 rows × 7 columns</p>\n",
              "</div>\n",
              "      <button class=\"colab-df-convert\" onclick=\"convertToInteractive('df-9112e775-0437-402e-a0bd-973a80f98a54')\"\n",
              "              title=\"Convert this dataframe to an interactive table.\"\n",
              "              style=\"display:none;\">\n",
              "        \n",
              "  <svg xmlns=\"http://www.w3.org/2000/svg\" height=\"24px\"viewBox=\"0 0 24 24\"\n",
              "       width=\"24px\">\n",
              "    <path d=\"M0 0h24v24H0V0z\" fill=\"none\"/>\n",
              "    <path d=\"M18.56 5.44l.94 2.06.94-2.06 2.06-.94-2.06-.94-.94-2.06-.94 2.06-2.06.94zm-11 1L8.5 8.5l.94-2.06 2.06-.94-2.06-.94L8.5 2.5l-.94 2.06-2.06.94zm10 10l.94 2.06.94-2.06 2.06-.94-2.06-.94-.94-2.06-.94 2.06-2.06.94z\"/><path d=\"M17.41 7.96l-1.37-1.37c-.4-.4-.92-.59-1.43-.59-.52 0-1.04.2-1.43.59L10.3 9.45l-7.72 7.72c-.78.78-.78 2.05 0 2.83L4 21.41c.39.39.9.59 1.41.59.51 0 1.02-.2 1.41-.59l7.78-7.78 2.81-2.81c.8-.78.8-2.07 0-2.86zM5.41 20L4 18.59l7.72-7.72 1.47 1.35L5.41 20z\"/>\n",
              "  </svg>\n",
              "      </button>\n",
              "      \n",
              "  <style>\n",
              "    .colab-df-container {\n",
              "      display:flex;\n",
              "      flex-wrap:wrap;\n",
              "      gap: 12px;\n",
              "    }\n",
              "\n",
              "    .colab-df-convert {\n",
              "      background-color: #E8F0FE;\n",
              "      border: none;\n",
              "      border-radius: 50%;\n",
              "      cursor: pointer;\n",
              "      display: none;\n",
              "      fill: #1967D2;\n",
              "      height: 32px;\n",
              "      padding: 0 0 0 0;\n",
              "      width: 32px;\n",
              "    }\n",
              "\n",
              "    .colab-df-convert:hover {\n",
              "      background-color: #E2EBFA;\n",
              "      box-shadow: 0px 1px 2px rgba(60, 64, 67, 0.3), 0px 1px 3px 1px rgba(60, 64, 67, 0.15);\n",
              "      fill: #174EA6;\n",
              "    }\n",
              "\n",
              "    [theme=dark] .colab-df-convert {\n",
              "      background-color: #3B4455;\n",
              "      fill: #D2E3FC;\n",
              "    }\n",
              "\n",
              "    [theme=dark] .colab-df-convert:hover {\n",
              "      background-color: #434B5C;\n",
              "      box-shadow: 0px 1px 3px 1px rgba(0, 0, 0, 0.15);\n",
              "      filter: drop-shadow(0px 1px 2px rgba(0, 0, 0, 0.3));\n",
              "      fill: #FFFFFF;\n",
              "    }\n",
              "  </style>\n",
              "\n",
              "      <script>\n",
              "        const buttonEl =\n",
              "          document.querySelector('#df-9112e775-0437-402e-a0bd-973a80f98a54 button.colab-df-convert');\n",
              "        buttonEl.style.display =\n",
              "          google.colab.kernel.accessAllowed ? 'block' : 'none';\n",
              "\n",
              "        async function convertToInteractive(key) {\n",
              "          const element = document.querySelector('#df-9112e775-0437-402e-a0bd-973a80f98a54');\n",
              "          const dataTable =\n",
              "            await google.colab.kernel.invokeFunction('convertToInteractive',\n",
              "                                                     [key], {});\n",
              "          if (!dataTable) return;\n",
              "\n",
              "          const docLinkHtml = 'Like what you see? Visit the ' +\n",
              "            '<a target=\"_blank\" href=https://colab.research.google.com/notebooks/data_table.ipynb>data table notebook</a>'\n",
              "            + ' to learn more about interactive tables.';\n",
              "          element.innerHTML = '';\n",
              "          dataTable['output_type'] = 'display_data';\n",
              "          await google.colab.output.renderOutput(dataTable, element);\n",
              "          const docLink = document.createElement('div');\n",
              "          docLink.innerHTML = docLinkHtml;\n",
              "          element.appendChild(docLink);\n",
              "        }\n",
              "      </script>\n",
              "    </div>\n",
              "  </div>\n",
              "  "
            ]
          },
          "metadata": {},
          "execution_count": 7
        }
      ]
    },
    {
      "cell_type": "code",
      "source": [],
      "metadata": {
        "id": "dp1SkMwC5E1r"
      },
      "id": "dp1SkMwC5E1r",
      "execution_count": null,
      "outputs": []
    },
    {
      "cell_type": "code",
      "execution_count": null,
      "id": "098f3dc6",
      "metadata": {
        "colab": {
          "base_uri": "https://localhost:8080/"
        },
        "id": "098f3dc6",
        "outputId": "82a33f44-9621-4a48-84a3-333394219ba3"
      },
      "outputs": [
        {
          "output_type": "stream",
          "name": "stdout",
          "text": [
            "<class 'pandas.core.frame.DataFrame'>\n",
            "RangeIndex: 159 entries, 0 to 158\n",
            "Data columns (total 7 columns):\n",
            " #   Column   Non-Null Count  Dtype  \n",
            "---  ------   --------------  -----  \n",
            " 0   Species  159 non-null    object \n",
            " 1   Weight   159 non-null    float64\n",
            " 2   Length1  159 non-null    float64\n",
            " 3   Length2  159 non-null    float64\n",
            " 4   Length3  159 non-null    float64\n",
            " 5   Height   159 non-null    float64\n",
            " 6   Width    159 non-null    float64\n",
            "dtypes: float64(6), object(1)\n",
            "memory usage: 8.8+ KB\n"
          ]
        }
      ],
      "source": [
        "df.info()"
      ]
    },
    {
      "cell_type": "code",
      "execution_count": null,
      "id": "9bb2b4d3",
      "metadata": {
        "id": "9bb2b4d3"
      },
      "outputs": [],
      "source": [
        "x=df.iloc[:,[2,3,4,5,6]].values\n",
        "y=df.iloc[:,1].values\n"
      ]
    },
    {
      "cell_type": "code",
      "execution_count": null,
      "id": "cdef48b2",
      "metadata": {
        "colab": {
          "base_uri": "https://localhost:8080/"
        },
        "id": "cdef48b2",
        "outputId": "64b94d5f-3928-4743-d5a5-7ee154654f1a"
      },
      "outputs": [
        {
          "output_type": "stream",
          "name": "stdout",
          "text": [
            "((159, 5), (159,))\n"
          ]
        }
      ],
      "source": [
        "print(f\"{x.shape , y.shape}\")"
      ]
    },
    {
      "cell_type": "code",
      "execution_count": null,
      "id": "08112815",
      "metadata": {
        "id": "08112815"
      },
      "outputs": [],
      "source": [
        "x_train=x[:-60]"
      ]
    },
    {
      "cell_type": "code",
      "execution_count": null,
      "id": "4ee3819f",
      "metadata": {
        "colab": {
          "base_uri": "https://localhost:8080/"
        },
        "id": "4ee3819f",
        "outputId": "474fce47-fd8d-45ce-f9d5-843f7cb3c957"
      },
      "outputs": [
        {
          "output_type": "stream",
          "name": "stdout",
          "text": [
            "(99, 5)\n"
          ]
        }
      ],
      "source": [
        "print(x_train.shape)"
      ]
    },
    {
      "cell_type": "code",
      "execution_count": null,
      "id": "4c83c71f",
      "metadata": {
        "id": "4c83c71f"
      },
      "outputs": [],
      "source": [
        "x_test=x[-60:]"
      ]
    },
    {
      "cell_type": "code",
      "execution_count": null,
      "id": "db4ccfd9",
      "metadata": {
        "colab": {
          "base_uri": "https://localhost:8080/"
        },
        "id": "db4ccfd9",
        "outputId": "ec530d12-bafc-427c-bdce-0301aa73dc5c"
      },
      "outputs": [
        {
          "output_type": "stream",
          "name": "stdout",
          "text": [
            "(60, 5)\n"
          ]
        }
      ],
      "source": [
        "print(x_test.shape)"
      ]
    },
    {
      "cell_type": "code",
      "execution_count": null,
      "id": "6a3a8578",
      "metadata": {
        "id": "6a3a8578"
      },
      "outputs": [],
      "source": [
        "y_train=y[:-60]"
      ]
    },
    {
      "cell_type": "code",
      "execution_count": null,
      "id": "dc3d05eb",
      "metadata": {
        "id": "dc3d05eb"
      },
      "outputs": [],
      "source": [
        "y_test=y[-60:]"
      ]
    },
    {
      "cell_type": "code",
      "execution_count": null,
      "id": "5a74ffeb",
      "metadata": {
        "colab": {
          "base_uri": "https://localhost:8080/"
        },
        "id": "5a74ffeb",
        "outputId": "72a73f1b-64cd-46c6-8c3b-ba9d5ac848cd"
      },
      "outputs": [
        {
          "output_type": "stream",
          "name": "stdout",
          "text": [
            "(99,) (60,)\n"
          ]
        }
      ],
      "source": [
        "print(y_train.shape,y_test.shape)"
      ]
    },
    {
      "cell_type": "code",
      "execution_count": null,
      "id": "5ca2db0a",
      "metadata": {
        "id": "5ca2db0a"
      },
      "outputs": [],
      "source": [
        "u=np.mean(x,axis=0)\n",
        "std=np.std(x,axis=0)\n",
        "x_train=(x_train-u)/std\n",
        "x_test=(x_test-u)/std"
      ]
    },
    {
      "cell_type": "code",
      "execution_count": null,
      "id": "9ecc2b15",
      "metadata": {
        "colab": {
          "base_uri": "https://localhost:8080/"
        },
        "id": "9ecc2b15",
        "outputId": "992aa38e-9c0e-4b82-c5e0-74ce5ae59eca"
      },
      "outputs": [
        {
          "output_type": "stream",
          "name": "stdout",
          "text": [
            "(99, 5) (60, 5)\n",
            "(5,)\n"
          ]
        }
      ],
      "source": [
        "print(x_train.shape,x_test.shape)\n",
        "print(u.shape)"
      ]
    },
    {
      "cell_type": "code",
      "execution_count": null,
      "id": "69740f95",
      "metadata": {
        "colab": {
          "base_uri": "https://localhost:8080/"
        },
        "id": "69740f95",
        "outputId": "13b75533-60d5-4402-e4e1-8d2d4bfa7050"
      },
      "outputs": [
        {
          "output_type": "stream",
          "name": "stdout",
          "text": [
            "398.3264150943396\n"
          ]
        }
      ],
      "source": [
        "a=np.mean(y,axis=0)\n",
        "print(a)"
      ]
    },
    {
      "cell_type": "code",
      "execution_count": null,
      "id": "069ccd58",
      "metadata": {
        "colab": {
          "base_uri": "https://localhost:8080/"
        },
        "id": "069ccd58",
        "outputId": "1997076b-266b-485c-bd41-79b57208078d"
      },
      "outputs": [
        {
          "output_type": "stream",
          "name": "stdout",
          "text": [
            "()\n"
          ]
        }
      ],
      "source": [
        "print(a.shape)\n",
        "b=np.std(y,axis=0)"
      ]
    },
    {
      "cell_type": "code",
      "execution_count": null,
      "id": "d8a91455",
      "metadata": {
        "colab": {
          "base_uri": "https://localhost:8080/"
        },
        "id": "d8a91455",
        "outputId": "760f77d7-4439-44dc-df44-a21ec7fc890f"
      },
      "outputs": [
        {
          "output_type": "stream",
          "name": "stdout",
          "text": [
            "356.8508229894959\n"
          ]
        }
      ],
      "source": [
        "print(b)"
      ]
    },
    {
      "cell_type": "code",
      "execution_count": null,
      "id": "ebf9734a",
      "metadata": {
        "id": "ebf9734a"
      },
      "outputs": [],
      "source": [
        "y_test=(y_test-a)/b"
      ]
    },
    {
      "cell_type": "code",
      "execution_count": null,
      "id": "58b3edd7",
      "metadata": {
        "id": "58b3edd7"
      },
      "outputs": [],
      "source": [
        "y_train=(y_train-a)/b"
      ]
    },
    {
      "cell_type": "code",
      "execution_count": null,
      "id": "4800e868",
      "metadata": {
        "id": "4800e868"
      },
      "outputs": [],
      "source": [
        "x_train=np.array(x_train)\n",
        "x_test=np.array(x_test)\n",
        "y_train=np.array(y_train)\n",
        "y_test=np.array(y_test)"
      ]
    },
    {
      "cell_type": "code",
      "execution_count": null,
      "id": "f092eac3",
      "metadata": {
        "colab": {
          "base_uri": "https://localhost:8080/",
          "height": 347
        },
        "id": "f092eac3",
        "outputId": "9fec1bb9-1cba-44f7-c06e-8ed0a849125b"
      },
      "outputs": [
        {
          "output_type": "display_data",
          "data": {
            "text/plain": [
              "<Figure size 576x396 with 1 Axes>"
            ],
            "image/png": "[encoded data removed]"
          },
          "metadata": {}
        }
      ],
      "source": [
        "plt.style.use('seaborn')\n",
        "plt.scatter(x_train[:, 0], y_train)\n",
        "plt.show()"
      ]
    },
    {
      "cell_type": "code",
      "execution_count": null,
      "id": "e19e51e3",
      "metadata": {
        "id": "e19e51e3"
      },
      "outputs": [],
      "source": [
        "ones=np.ones((x_train.shape[0],1))\n",
        "x_train=np.hstack((ones,x_train))"
      ]
    },
    {
      "cell_type": "code",
      "execution_count": null,
      "id": "4559b32e",
      "metadata": {
        "colab": {
          "base_uri": "https://localhost:8080/"
        },
        "id": "4559b32e",
        "outputId": "dfe48878-a13a-4282-f016-f25e9d8c0bfe"
      },
      "outputs": [
        {
          "output_type": "stream",
          "name": "stdout",
          "text": [
            "[[ 1.         -0.30578858 -0.28230301 -0.10602023  0.59657867 -0.23652895]\n",
            " [ 1.         -0.22550724 -0.19805366 -0.00233668  0.82126055 -0.06657895]\n",
            " [ 1.         -0.23554241 -0.17933159 -0.01097698  0.79734129  0.16579317]\n",
            " [ 1.          0.0053016   0.05469437  0.19639012  0.87977146  0.022621  ]\n",
            " [ 1.          0.02537193  0.05469437  0.23959159  0.81283498  0.42637127]]\n"
          ]
        }
      ],
      "source": [
        "print(x_train[:5,])"
      ]
    },
    {
      "cell_type": "code",
      "execution_count": null,
      "id": "44c708bc",
      "metadata": {
        "id": "44c708bc"
      },
      "outputs": [],
      "source": [
        "def hypothesis(x, theta):\n",
        "    return np.dot(x, theta)"
      ]
    },
    {
      "cell_type": "code",
      "execution_count": null,
      "id": "e74d23c2",
      "metadata": {
        "id": "e74d23c2"
      },
      "outputs": [],
      "source": [
        "def cost(X, Y, theta):\n",
        "    m = X.shape[0]\n",
        "    total_error = 0\n",
        "\n",
        "    y_p = hypothesis(X, theta)\n",
        "    total_error = np.sum((y_p - Y)**2)\n",
        "\n",
        "    return total_error/m"
      ]
    },
    {
      "cell_type": "code",
      "execution_count": null,
      "id": "ed5607c4",
      "metadata": {
        "id": "ed5607c4"
      },
      "outputs": [],
      "source": [
        "def gradient(X, Y, theta):\n",
        "\n",
        "    y_p = hypothesis(X, theta)\n",
        "\n",
        "    grad = np.dot(X.T, (y_p - Y))\n",
        "\n",
        "    return grad/X.shape[0]"
      ]
    },
    {
      "cell_type": "code",
      "execution_count": null,
      "id": "954a21b6",
      "metadata": {
        "id": "954a21b6"
      },
      "outputs": [],
      "source": [
        "def gradient_descent(X, Y, learning_rate = 0.01, max_steps = 600):\n",
        "\n",
        "    m, n = X.shape\n",
        "    theta = np.zeros((n, ))\n",
        "    cost_epoch = []\n",
        "\n",
        "    for i in range(max_steps):\n",
        "\n",
        "        grad = gradient(X, Y, theta)\n",
        "\n",
        "        e = cost(X, Y, theta)\n",
        "        cost_epoch.append(e)\n",
        "\n",
        "        theta = theta - learning_rate*grad\n",
        "\n",
        "    return theta, cost_epoch"
      ]
    },
    {
      "cell_type": "code",
      "execution_count": null,
      "id": "90f11dec",
      "metadata": {
        "id": "90f11dec"
      },
      "outputs": [],
      "source": []
    },
    {
      "cell_type": "code",
      "execution_count": null,
      "id": "44d3014a",
      "metadata": {
        "id": "44d3014a"
      },
      "outputs": [],
      "source": [
        "theta, cost_epoch = gradient_descent(x_train, y_train)"
      ]
    },
    {
      "cell_type": "code",
      "execution_count": null,
      "id": "59423976",
      "metadata": {
        "colab": {
          "base_uri": "https://localhost:8080/"
        },
        "id": "59423976",
        "outputId": "961036bc-8201-48bb-a067-e085e1bf453c"
      },
      "outputs": [
        {
          "output_type": "execute_result",
          "data": {
            "text/plain": [
              "array([-0.09534404,  0.18291541,  0.18671057,  0.17925426,  0.23260861,\n",
              "        0.20752172])"
            ]
          },
          "metadata": {},
          "execution_count": 34
        }
      ],
      "source": [
        "theta"
      ]
    },
    {
      "cell_type": "code",
      "execution_count": null,
      "id": "a21f287f",
      "metadata": {
        "colab": {
          "base_uri": "https://localhost:8080/"
        },
        "id": "a21f287f",
        "outputId": "fcc55b57-7230-4027-e32c-057f1cdf224c"
      },
      "outputs": [
        {
          "output_type": "execute_result",
          "data": {
            "text/plain": [
              "[0.6433076929369167,\n",
              " 0.6089115912587875,\n",
              " 0.5764968587695,\n",
              " 0.5459492788824355,\n",
              " 0.5171612208850846,\n",
              " 0.49003126014706844,\n",
              " 0.4644638202308447,\n",
              " 0.4403688356419464,\n",
              " 0.4176614340284413,\n",
              " 0.3962616367079588,\n",
              " 0.3760940764653067,\n",
              " 0.3570877316246665,\n",
              " 0.33917567545779476,\n",
              " 0.3222948400437829,\n",
              " 0.3063857937469439,\n",
              " 0.2913925315274516,\n",
              " 0.2772622773446559,\n",
              " 0.26394529795567845,\n",
              " 0.2513947274521119,\n",
              " 0.23956640191554823,\n",
              " 0.2284187036083729,\n",
              " 0.21791241414992044,\n",
              " 0.20801057615979804,\n",
              " 0.19867836288006935,\n",
              " 0.18988295531615323,\n",
              " 0.18159342646282783,\n",
              " 0.1737806322067376,\n",
              " 0.16641710852036742,\n",
              " 0.15947697458465007,\n",
              " 0.15293584149830156,\n",
              " 0.14677072625169554,\n",
              " 0.14095997066166857,\n",
              " 0.1354831649811592,\n",
              " 0.13032107591408126,\n",
              " 0.12545557878138214,\n",
              " 0.1208695935988857,\n",
              " 0.11654702484132856,\n",
              " 0.11247270468000639,\n",
              " 0.10863233949370812,\n",
              " 0.10501245946416807,\n",
              " 0.10160037107815326,\n",
              " 0.09838411236856077,\n",
              " 0.0953524107365684,\n",
              " 0.09249464320599039,\n",
              " 0.08980079896957457,\n",
              " 0.08726144409506663,\n",
              " 0.08486768826648937,\n",
              " 0.08261115344326797,\n",
              " 0.08048394432660166,\n",
              " 0.07847862052885918,\n",
              " 0.07658817034778757,\n",
              " 0.07480598605298672,\n",
              " 0.07312584059743926,\n",
              " 0.07154186567191594,\n",
              " 0.07004853102481452,\n",
              " 0.06864062497445754,\n",
              " 0.06731323604508212,\n",
              " 0.06606173566172092,\n",
              " 0.06488176184291082,\n",
              " 0.06376920383368649,\n",
              " 0.06272018762463588,\n",
              " 0.061731062305920244,\n",
              " 0.060798387208109414,\n",
              " 0.0599189197844589,\n",
              " 0.059089604191872334,\n",
              " 0.058307560530258824,\n",
              " 0.05757007470231773,\n",
              " 0.05687458885797372,\n",
              " 0.05621869238974751,\n",
              " 0.05560011344729214,\n",
              " 0.05501671094115742,\n",
              " 0.054466467007570574,\n",
              " 0.05394747990764918,\n",
              " 0.05345795733599465,\n",
              " 0.05299621011506001,\n",
              " 0.05256064625304608,\n",
              " 0.05214976534436444,\n",
              " 0.051762153292912824,\n",
              " 0.051396477339549225,\n",
              " 0.05105148137622322,\n",
              " 0.050725981530235574,\n",
              " 0.05041886200304971,\n",
              " 0.05012907114897716,\n",
              " 0.04985561777990576,\n",
              " 0.04959756768303625,\n",
              " 0.04935404033934574,\n",
              " 0.04912420583120355,\n",
              " 0.04890728192823305,\n",
              " 0.0487025313411424,\n",
              " 0.04850925913383867,\n",
              " 0.04832681028469921,\n",
              " 0.04815456738840064,\n",
              " 0.04799194849020028,\n",
              " 0.047838405045034484,\n",
              " 0.04769341999423619,\n",
              " 0.0475565059530912,\n",
              " 0.047427203502842276,\n",
              " 0.04730507958111927,\n",
              " 0.04718972596512069,\n",
              " 0.047080757842199436,\n",
              " 0.04697781246281323,\n",
              " 0.04688054787109175,\n",
              " 0.0467886417085454,\n",
              " 0.046701790086699384,\n",
              " 0.046619706524679304,\n",
              " 0.04654212094800417,\n",
              " 0.04646877874505818,\n",
              " 0.046399439877916296,\n",
              " 0.04633387804439044,\n",
              " 0.04627187988834355,\n",
              " 0.04621324425548924,\n",
              " 0.04615778149205513,\n",
              " 0.0461053127838391,\n",
              " 0.04605566953333006,\n",
              " 0.04600869277269954,\n",
              " 0.04596423261059602,\n",
              " 0.04592214771079441,\n",
              " 0.045882304800863916,\n",
              " 0.04584457820912479,\n",
              " 0.045808849428263305,\n",
              " 0.04577500670406861,\n",
              " 0.045742944647843786,\n",
              " 0.045712563871126564,\n",
              " 0.045683770641434376,\n",
              " 0.04565647655782187,\n",
              " 0.04563059824510958,\n",
              " 0.04560605706570734,\n",
              " 0.04558277884801937,\n",
              " 0.04556069363047479,\n",
              " 0.045539735420284014,\n",
              " 0.04551984196607211,\n",
              " 0.0455009545435899,\n",
              " 0.045483017753749175,\n",
              " 0.045465979332272345,\n",
              " 0.04544978997028722,\n",
              " 0.045434403145236474,\n",
              " 0.04541977496150778,\n",
              " 0.045405864000224755,\n",
              " 0.045392631177670756,\n",
              " 0.045380039611848826,\n",
              " 0.045368054496708894,\n",
              " 0.04535664298360066,\n",
              " 0.04534577406953656,\n",
              " 0.045335418491871914,\n",
              " 0.045325548629033534,\n",
              " 0.045316138406948085,\n",
              " 0.0453071632108423,\n",
              " 0.04529859980210556,\n",
              " 0.045290426239923735,\n",
              " 0.04528262180740956,\n",
              " 0.045275166941970625,\n",
              " 0.04526804316967124,\n",
              " 0.04526123304335825,\n",
              " 0.04525472008433442,\n",
              " 0.04524848872737501,\n",
              " 0.045242524268895364,\n",
              " 0.04523681281808824,\n",
              " 0.04523134125085993,\n",
              " 0.045226097166404515,\n",
              " 0.04522106884626418,\n",
              " 0.04521624521573268,\n",
              " 0.045211615807467576,\n",
              " 0.04520717072718389,\n",
              " 0.04520290062130962,\n",
              " 0.04519879664649042,\n",
              " 0.04519485044083722,\n",
              " 0.04519105409681647,\n",
              " 0.045187400135688706,\n",
              " 0.04518388148340662,\n",
              " 0.04518049144788855,\n",
              " 0.045177223697588594,\n",
              " 0.0451740722412889,\n",
              " 0.04517103140904376,\n",
              " 0.04516809583420968,\n",
              " 0.04516526043649884,\n",
              " 0.045162520405997435,\n",
              " 0.04515987118809327,\n",
              " 0.045157308469260804,\n",
              " 0.045154828163654216,\n",
              " 0.045152426400462166,\n",
              " 0.04515009951198071,\n",
              " 0.045147844022363166,\n",
              " 0.04514565663700806,\n",
              " 0.04514353423254873,\n",
              " 0.04514147384741004,\n",
              " 0.04513947267289969,\n",
              " 0.04513752804480374,\n",
              " 0.04513563743545712,\n",
              " 0.045133798446262405,\n",
              " 0.04513200880063081,\n",
              " 0.045130266337321395,\n",
              " 0.045128569004156086,\n",
              " 0.04512691485208818,\n",
              " 0.04512530202960525,\n",
              " 0.04512372877744626,\n",
              " 0.045122193423615814,\n",
              " 0.04512069437867813,\n",
              " 0.04511923013131484,\n",
              " 0.0451177992441317,\n",
              " 0.04511640034969999,\n",
              " 0.04511503214681899,\n",
              " 0.045113693396987536,\n",
              " 0.04511238292107193,\n",
              " 0.04511109959615975,\n",
              " 0.0451098423525887,\n",
              " 0.045108610171140456,\n",
              " 0.04510740208039028,\n",
              " 0.04510621715420366,\n",
              " 0.04510505450937126,\n",
              " 0.04510391330337483,\n",
              " 0.04510279273227616,\n",
              " 0.045101692028722565,\n",
              " 0.045100610460061995,\n",
              " 0.04509954732656163,\n",
              " 0.04509850195972418,\n",
              " 0.045097473720696404,\n",
              " 0.04509646199876452,\n",
              " 0.04509546620993164,\n",
              " 0.045094485795572625,\n",
              " 0.04509352022116221,\n",
              " 0.045092568975071724,\n",
              " 0.04509163156743122,\n",
              " 0.04509070752905291,\n",
              " 0.04508979641041247,\n",
              " 0.0450888977806853,\n",
              " 0.0450880112268343,\n",
              " 0.0450871363527464,\n",
              " 0.04508627277841533,\n",
              " 0.04508542013916765,\n",
              " 0.04508457808492997,\n",
              " 0.04508374627953495,\n",
              " 0.045082924400063805,\n",
              " 0.04508211213622356,\n",
              " 0.04508130918975682,\n",
              " 0.04508051527388255,\n",
              " 0.04507973011276578,\n",
              " 0.04507895344101514,\n",
              " 0.04507818500320621,\n",
              " 0.045077424553429495,\n",
              " 0.04507667185486173,\n",
              " 0.045075926679359016,\n",
              " 0.04507518880707086,\n",
              " 0.04507445802607372,\n",
              " 0.045073734132023154,\n",
              " 0.04507301692782356,\n",
              " 0.04507230622331439,\n",
              " 0.04507160183497216,\n",
              " 0.045070903585627285,\n",
              " 0.045070211304194904,\n",
              " 0.045069524825418976,\n",
              " 0.045068843989629105,\n",
              " 0.04506816864250895,\n",
              " 0.045067498634876295,\n",
              " 0.04506683382247332,\n",
              " 0.04506617406576737,\n",
              " 0.045065519229761104,\n",
              " 0.0450648691838115,\n",
              " 0.04506422380145785,\n",
              " 0.0450635829602575,\n",
              " 0.045062946541629435,\n",
              " 0.04506231443070516,\n",
              " 0.04506168651618646,\n",
              " 0.04506106269020967,\n",
              " 0.04506044284821631,\n",
              " 0.04505982688882929,\n",
              " 0.04505921471373513,\n",
              " 0.045058606227571074,\n",
              " 0.0450580013378175,\n",
              " 0.04505739995469499,\n",
              " 0.04505680199106596,\n",
              " 0.04505620736234051,\n",
              " 0.04505561598638651,\n",
              " 0.04505502778344343,\n",
              " 0.04505444267604,\n",
              " 0.045053860588915064,\n",
              " 0.045053281448942266,\n",
              " 0.045052705185057385,\n",
              " 0.04505213172818898,\n",
              " 0.045051561011191975,\n",
              " 0.04505099296878352,\n",
              " 0.04505042753748205,\n",
              " 0.045049864655548326,\n",
              " 0.045049304262929094,\n",
              " 0.0450487463012029,\n",
              " 0.04504819071352796,\n",
              " 0.045047637444592295,\n",
              " 0.045047086440565515,\n",
              " 0.04504653764905262,\n",
              " 0.0450459910190496,\n",
              " 0.04504544650090058,\n",
              " 0.04504490404625668,\n",
              " 0.045044363608036354,\n",
              " 0.04504382514038719,\n",
              " 0.045043288598649214,\n",
              " 0.04504275393931929,\n",
              " 0.04504222112001709,\n",
              " 0.04504169009945209,\n",
              " 0.04504116083739178,\n",
              " 0.045040633294631024,\n",
              " 0.045040107432962447,\n",
              " 0.04503958321514785,\n",
              " 0.0450390606048907,\n",
              " 0.04503853956680935,\n",
              " 0.04503802006641141,\n",
              " 0.045037502070068805,\n",
              " 0.045036985544993725,\n",
              " 0.04503647045921534,\n",
              " 0.04503595678155735,\n",
              " 0.04503544448161613,\n",
              " 0.045034933529739724,\n",
              " 0.04503442389700747,\n",
              " 0.045033915555210156,\n",
              " 0.04503340847683098,\n",
              " 0.04503290263502701,\n",
              " 0.04503239800361117,\n",
              " 0.04503189455703493,\n",
              " 0.04503139227037139,\n",
              " 0.045030891119298956,\n",
              " 0.04503039108008541,\n",
              " 0.045029892129572674,\n",
              " 0.04502939424516174,\n",
              " 0.04502889740479824,\n",
              " 0.045028401586958436,\n",
              " 0.045027906770635506,\n",
              " 0.04502741293532638,\n",
              " 0.045026920061018764,\n",
              " 0.045026428128178766,\n",
              " 0.045025937117738675,\n",
              " 0.04502544701108518,\n",
              " 0.04502495779004793,\n",
              " 0.045024469436888426,\n",
              " 0.04502398193428907,\n",
              " 0.04502349526534277,\n",
              " 0.04502300941354265,\n",
              " 0.04502252436277206,\n",
              " 0.045022040097295,\n",
              " 0.04502155660174654,\n",
              " 0.04502107386112376,\n",
              " 0.04502059186077687,\n",
              " 0.04502011058640037,\n",
              " 0.04501963002402478,\n",
              " 0.04501915016000833,\n",
              " 0.045018670981028915,\n",
              " 0.04501819247407637,\n",
              " 0.04501771462644488,\n",
              " 0.04501723742572556,\n",
              " 0.04501676085979922,\n",
              " 0.04501628491682942,\n",
              " 0.045015809585255626,\n",
              " 0.04501533485378652,\n",
              " 0.04501486071139351,\n",
              " 0.045014387147304505,\n",
              " 0.045013914150997605,\n",
              " 0.04501344171219524,\n",
              " 0.04501296982085826,\n",
              " 0.045012498467180216,\n",
              " 0.045012027641581846,\n",
              " 0.04501155733470558,\n",
              " 0.045011087537410385,\n",
              " 0.045010618240766534,\n",
              " 0.04501014943605052,\n",
              " 0.045009681114740324,\n",
              " 0.04500921326851046,\n",
              " 0.045008745889227465,\n",
              " 0.04500827896894524,\n",
              " 0.045007812499900754,\n",
              " 0.04500734647450954,\n",
              " 0.04500688088536163,\n",
              " 0.04500641572521739,\n",
              " 0.045005950987003496,\n",
              " 0.04500548666380904,\n",
              " 0.04500502274888169,\n",
              " 0.04500455923562397,\n",
              " 0.045004096117589626,\n",
              " 0.04500363338848012,\n",
              " 0.04500317104214101,\n",
              " 0.045002709072558815,\n",
              " 0.0450022474738575,\n",
              " 0.045001786240295376,\n",
              " 0.04500132536626191,\n",
              " 0.0450008648462747,\n",
              " 0.04500040467497643,\n",
              " 0.044999944847131934,\n",
              " 0.04499948535762548,\n",
              " 0.04499902620145779,\n",
              " 0.04499856737374349,\n",
              " 0.044998108869708384,\n",
              " 0.044997650684686794,\n",
              " 0.04499719281411921,\n",
              " 0.044996735253549636,\n",
              " 0.04499627799862332,\n",
              " 0.04499582104508434,\n",
              " 0.04499536438877325,\n",
              " 0.04499490802562495,\n",
              " 0.04499445195166642,\n",
              " 0.04499399616301463,\n",
              " 0.04499354065587442,\n",
              " 0.04499308542653645,\n",
              " 0.04499263047137521,\n",
              " 0.04499217578684713,\n",
              " 0.04499172136948867,\n",
              " 0.04499126721591436,\n",
              " 0.044990813322815126,\n",
              " 0.044990359686956444,\n",
              " 0.044989906305176644,\n",
              " 0.044989453174385255,\n",
              " 0.04498900029156122,\n",
              " 0.044988547653751494,\n",
              " 0.04498809525806927,\n",
              " 0.04498764310169262,\n",
              " 0.044987191181862896,\n",
              " 0.04498673949588325,\n",
              " 0.0449862880411173,\n",
              " 0.044985836814987606,\n",
              " 0.04498538581497449,\n",
              " 0.0449849350386145,\n",
              " 0.044984484483499204,\n",
              " 0.044984034147274,\n",
              " 0.04498358402763673,\n",
              " 0.044983134122336524,\n",
              " 0.044982684429172665,\n",
              " 0.04498223494599338,\n",
              " 0.044981785670694704,\n",
              " 0.04498133660121945,\n",
              " 0.044980887735556044,\n",
              " 0.044980439071737474,\n",
              " 0.04497999060784039,\n",
              " 0.04497954234198391,\n",
              " 0.04497909427232879,\n",
              " 0.04497864639707638,\n",
              " 0.04497819871446776,\n",
              " 0.04497775122278276,\n",
              " 0.04497730392033912,\n",
              " 0.04497685680549154,\n",
              " 0.044976409876630916,\n",
              " 0.04497596313218347,\n",
              " 0.044975516570609914,\n",
              " 0.04497507019040472,\n",
              " 0.0449746239900953,\n",
              " 0.04497417796824118,\n",
              " 0.04497373212343341,\n",
              " 0.04497328645429375,\n",
              " 0.044972840959473945,\n",
              " 0.04497239563765508,\n",
              " 0.044971950487546916,\n",
              " 0.04497150550788717,\n",
              " 0.04497106069744093,\n",
              " 0.04497061605500001,\n",
              " 0.044970171579382316,\n",
              " 0.04496972726943123,\n",
              " 0.04496928312401516,\n",
              " 0.04496883914202675,\n",
              " 0.04496839532238248,\n",
              " 0.04496795166402211,\n",
              " 0.04496750816590804,\n",
              " 0.04496706482702489,\n",
              " 0.04496662164637898,\n",
              " 0.04496617862299777,\n",
              " 0.044965735755929465,\n",
              " 0.044965293044242446,\n",
              " 0.0449648504870249,\n",
              " 0.04496440808338422,\n",
              " 0.04496396583244677,\n",
              " 0.044963523733357325,\n",
              " 0.04496308178527859,\n",
              " 0.04496263998739094,\n",
              " 0.04496219833889189,\n",
              " 0.044961756838995816,\n",
              " 0.04496131548693342,\n",
              " 0.04496087428195151,\n",
              " 0.04496043322331252,\n",
              " 0.04495999231029418,\n",
              " 0.04495955154218925,\n",
              " 0.044959110918305054,\n",
              " 0.044958670437963165,\n",
              " 0.04495823010049917,\n",
              " 0.04495778990526229,\n",
              " 0.044957349851614994,\n",
              " 0.044956909938932865,\n",
              " 0.04495647016660414,\n",
              " 0.04495603053402953,\n",
              " 0.04495559104062185,\n",
              " 0.0449551516858058,\n",
              " 0.04495471246901766,\n",
              " 0.04495427338970508,\n",
              " 0.04495383444732675,\n",
              " 0.0449533956413522,\n",
              " 0.0449529569712615,\n",
              " 0.044952518436545075,\n",
              " 0.04495208003670342,\n",
              " 0.04495164177124697,\n",
              " 0.04495120363969567,\n",
              " 0.04495076564157899,\n",
              " 0.04495032777643557,\n",
              " 0.044949890043813036,\n",
              " 0.0449494524432678,\n",
              " 0.04494901497436489,\n",
              " 0.04494857763667766,\n",
              " 0.04494814042978778,\n",
              " 0.04494770335328483,\n",
              " 0.0449472664067663,\n",
              " 0.04494682958983721,\n",
              " 0.04494639290211022,\n",
              " 0.044945956343205175,\n",
              " 0.04494551991274914,\n",
              " 0.04494508361037612,\n",
              " 0.044944647435726945,\n",
              " 0.044944211388449104,\n",
              " 0.04494377546819665,\n",
              " 0.04494333967462995,\n",
              " 0.04494290400741557,\n",
              " 0.04494246846622626,\n",
              " 0.04494203305074062,\n",
              " 0.04494159776064308,\n",
              " 0.04494116259562376,\n",
              " 0.044940727555378326,\n",
              " 0.04494029263960784,\n",
              " 0.04493985784801872,\n",
              " 0.04493942318032249,\n",
              " 0.04493898863623579,\n",
              " 0.04493855421548019,\n",
              " 0.04493811991778208,\n",
              " 0.04493768574287258,\n",
              " 0.044937251690487456,\n",
              " 0.04493681776036697,\n",
              " 0.04493638395225578,\n",
              " 0.044935950265902865,\n",
              " 0.04493551670106143,\n",
              " 0.0449350832574888,\n",
              " 0.04493464993494634,\n",
              " 0.0449342167331993,\n",
              " 0.044933783652016814,\n",
              " 0.044933350691171804,\n",
              " 0.044932917850440804,\n",
              " 0.04493248512960399,\n",
              " 0.04493205252844502,\n",
              " 0.04493162004675101,\n",
              " 0.04493118768431243,\n",
              " 0.044930755440923,\n",
              " 0.04493032331637971,\n",
              " 0.044929891310482604,\n",
              " 0.04492945942303486,\n",
              " 0.04492902765384261,\n",
              " 0.04492859600271495,\n",
              " 0.04492816446946379,\n",
              " 0.044927733053903886,\n",
              " 0.04492730175585272,\n",
              " 0.04492687057513045,\n",
              " 0.044926439511559814,\n",
              " 0.044926008564966174,\n",
              " 0.044925577735177344,\n",
              " 0.04492514702202358,\n",
              " 0.04492471642533755,\n",
              " 0.04492428594495429,\n",
              " 0.044923855580711027,\n",
              " 0.044923425332447336,\n",
              " 0.044922995200004874,\n",
              " 0.04492256518322751,\n",
              " 0.044922135281961165,\n",
              " 0.04492170549605382,\n",
              " 0.044921275825355426,\n",
              " 0.044920846269717915,\n",
              " 0.044920416828995134,\n",
              " 0.0449199875030428,\n",
              " 0.0449195582917184,\n",
              " 0.04491912919488127,\n",
              " 0.04491870021239248,\n",
              " 0.04491827134411478,\n",
              " 0.04491784258991263,\n",
              " 0.04491741394965212,\n",
              " 0.04491698542320091,\n",
              " 0.04491655701042824,\n",
              " 0.04491612871120487,\n",
              " 0.04491570052540313,\n",
              " 0.04491527245289666,\n",
              " 0.044914844493560674,\n",
              " 0.04491441664727172,\n",
              " 0.04491398891390772,\n",
              " 0.044913561293347996,\n",
              " 0.04491313378547308,\n",
              " 0.04491270639016485,\n",
              " 0.04491227910730644,\n",
              " 0.044911851936782196,\n",
              " 0.04491142487847764,\n",
              " 0.04491099793227953,\n",
              " 0.044910571098075745,\n",
              " 0.04491014437575525,\n",
              " 0.0449097177652082,\n",
              " 0.044909291266325715,\n",
              " 0.044908864879000074,\n",
              " 0.04490843860312452,\n",
              " 0.044908012438593325,\n",
              " 0.0449075863853018,\n",
              " 0.0449071604431461,\n",
              " 0.04490673461202346,\n",
              " 0.04490630889183197,\n",
              " 0.04490588328247065,\n",
              " 0.04490545778383938,\n",
              " 0.04490503239583894,\n",
              " 0.04490460711837097]"
            ]
          },
          "metadata": {},
          "execution_count": 35
        }
      ],
      "source": [
        "cost_epoch"
      ]
    },
    {
      "cell_type": "code",
      "execution_count": null,
      "id": "a552a0c3",
      "metadata": {
        "id": "a552a0c3"
      },
      "outputs": [],
      "source": [
        "ones=np.ones((x_test.shape[0],1))\n",
        "x_test=np.hstack((ones,x_test))\n"
      ]
    },
    {
      "cell_type": "code",
      "execution_count": null,
      "id": "3155618e",
      "metadata": {
        "colab": {
          "base_uri": "https://localhost:8080/",
          "height": 364
        },
        "id": "3155618e",
        "outputId": "8cf109ae-0639-4a63-deca-0b2678d7ea16"
      },
      "outputs": [
        {
          "output_type": "execute_result",
          "data": {
            "text/plain": [
              "[<matplotlib.lines.Line2D at 0x7fd8e04df280>]"
            ]
          },
          "metadata": {},
          "execution_count": 37
        },
        {
          "output_type": "display_data",
          "data": {
            "text/plain": [
              "<Figure size 576x396 with 1 Axes>"
            ],
            "image/png": "[encoded data removed]"
          },
          "metadata": {}
        }
      ],
      "source": [
        "plt.plot(cost_epoch)"
      ]
    },
    {
      "cell_type": "code",
      "execution_count": null,
      "id": "0e234517",
      "metadata": {
        "id": "0e234517"
      },
      "outputs": [],
      "source": [
        "y_pred_test=[]\n",
        "for i in range(x_test.shape[0]):\n",
        "    pred=hypothesis(x_test[i],theta)\n",
        "    y_pred_test.append(pred)\n",
        "y_pred_test=np.array(y_pred_test)"
      ]
    },
    {
      "cell_type": "code",
      "execution_count": null,
      "id": "0b603490",
      "metadata": {
        "colab": {
          "base_uri": "https://localhost:8080/"
        },
        "id": "0b603490",
        "outputId": "64d059a8-e9e8-4d4e-9357-72c41358afe3"
      },
      "outputs": [
        {
          "output_type": "stream",
          "name": "stdout",
          "text": [
            "-0.5163164675450882 -0.6118142400942878\n",
            "-0.4136952641048846 -0.5641752859296776\n",
            "-0.3336291086254064 -0.5053271660792769\n",
            "-0.11959384826371985 -0.2755392695205691\n",
            "-0.2713266734542526 -0.3876309263784753\n",
            "-0.2776200024319487 -0.373619469271237\n",
            "-0.23648280250717996 -0.41565384059295185\n",
            "-0.22625738779714977 -0.41565384059295185\n",
            "-0.14438139586737986 -0.2755392695205691\n",
            "-0.06343337818859751 -0.219493441091616\n",
            "0.35759479711935016 0.3241510946692291\n",
            "0.5115213146821052 0.4418473343700306\n",
            "0.7827905897744772 1.2376980980611647\n",
            "0.7147497937019969 0.8033429277367781\n",
            "0.6651529282870344 0.8453772990584929\n",
            "0.6623387158418588 0.8453772990584929\n",
            "0.6608871200288343 0.8173543848440163\n",
            "0.9331446891962466 1.4058355833480238\n",
            "0.7490974238365626 0.7052627279861101\n",
            "0.9863802943087103 1.1816522696322116\n",
            "0.9672312470695418 1.2657210122756413\n",
            "0.9759982943109456 1.4058355833480238\n",
            "1.0391955729656734 1.7280990968145042\n",
            "0.8719660870769309 1.1816522696322116\n",
            "1.0944174203564698 1.966293867637555\n",
            "1.1391333776727004 1.6860647254927894\n",
            "1.1980477096322706 1.966293867637555\n",
            "1.3109385902024397 1.6860647254927894\n",
            "1.2717697802706862 1.6860647254927894\n",
            "-0.21715149088607977 -0.5557684116653346\n",
            "-0.005541344432667961 -0.2755392695205691\n",
            "0.08618357868402154 -0.2755392695205691\n",
            "0.15455767785447427 -0.2755392695205691\n",
            "0.31375680407570716 0.08875861526762605\n",
            "0.21671659055621217 -0.14943615555542464\n",
            "0.5205394284413899 0.16161819222526508\n",
            "0.5126251533943161 0.3129419289834385\n",
            "0.6629749641817966 0.3970106716268681\n",
            "0.6930662054540159 0.2849190147689619\n",
            "0.7854968093444981 0.47267254000595477\n",
            "0.9449303784725984 1.0415376985598288\n",
            "1.3002901609407966 1.5459501544204066\n",
            "1.7109111567444986 2.3866375808547033\n",
            "1.7578653751061921 3.3674395783613824\n",
            "1.7578653751061921 3.2273250072889996\n",
            "2.1652733349055744 3.507554149433765\n",
            "-1.8580334172902566 -1.0974513434311663\n",
            "-1.7939835511641413 -1.0952095102940083\n",
            "-1.805094347225099 -1.096610656004732\n",
            "-1.7323447843230257 -1.0890444691668235\n",
            "-1.7359826887971301 -1.0887642400246786\n",
            "-1.7340300285991375 -1.0918467605882711\n",
            "-1.6957102652843306 -1.0882037817403891\n",
            "-1.7102695598266728 -1.088484010882534\n",
            "-1.7060677878148984 -1.0887642400246786\n",
            "-1.6735658148734405 -1.0820387406132044\n",
            "-1.6617488746521492 -1.078675990907467\n",
            "-1.6492327237263267 -1.0820387406132044\n",
            "-1.4520022112584356 -1.061021554952347\n",
            "-1.4332480282254383 -1.0604610966680574\n"
          ]
        }
      ],
      "source": [
        "for i in range(len(y_pred_test)):\n",
        "    print(y_pred_test[i],y_test[i])"
      ]
    },
    {
      "cell_type": "code",
      "execution_count": null,
      "id": "7bdf657f",
      "metadata": {
        "colab": {
          "base_uri": "https://localhost:8080/"
        },
        "id": "7bdf657f",
        "outputId": "778d8ce0-085e-493f-f2e3-98187a0fa11a"
      },
      "outputs": [
        {
          "output_type": "stream",
          "name": "stdout",
          "text": [
            "MAE 0.42420635746881774\n",
            "MSE 0.2853797682665831\n",
            "RMSE 0.5342094797610607\n",
            "Accuracy 0.8511513757979069\n"
          ]
        }
      ],
      "source": [
        "from sklearn import metrics\n",
        "print('MAE',metrics.mean_absolute_error(y_test,y_pred_test))\n",
        "print('MSE',metrics.mean_squared_error(y_test,y_pred_test))\n",
        "print('RMSE',np.sqrt(metrics.mean_squared_error(y_test,y_pred_test)))\n",
        "print('Accuracy',metrics.explained_variance_score(y_test,y_pred_test))"
      ]
    },
    {
      "cell_type": "code",
      "execution_count": null,
      "id": "7c35e505",
      "metadata": {
        "id": "7c35e505"
      },
      "outputs": [],
      "source": []
    },
    {
      "cell_type": "code",
      "execution_count": null,
      "id": "c74adb6e",
      "metadata": {
        "id": "c74adb6e"
      },
      "outputs": [],
      "source": []
    },
    {
      "cell_type": "code",
      "execution_count": null,
      "id": "160bbcaf",
      "metadata": {
        "id": "160bbcaf"
      },
      "outputs": [],
      "source": []
    }
  ],
  "metadata": {
    "kernelspec": {
      "display_name": "Python 3 (ipykernel)",
      "language": "python",
      "name": "python3"
    },
    "language_info": {
      "codemirror_mode": {
        "name": "ipython",
        "version": 3
      },
      "file_extension": ".py",
      "mimetype": "text/x-python",
      "name": "python",
      "nbconvert_exporter": "python",
      "pygments_lexer": "ipython3",
      "version": "3.10.4"
    },
    "colab": {
      "provenance": [],
      "include_colab_link": true
    }
  },
  "nbformat": 4,
  "nbformat_minor": 5
}